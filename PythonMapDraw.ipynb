{
 "cells": [
  {
   "cell_type": "code",
   "execution_count": null,
   "id": "30e9948c",
   "metadata": {},
   "outputs": [],
   "source": [
    "import networkx as nx\n",
    "G = nx.complete_graph(5)\n",
    "nx.draw(G)"
   ]
  },
  {
   "cell_type": "code",
   "execution_count": null,
   "id": "e384eaf7",
   "metadata": {},
   "outputs": [],
   "source": [
    "import networkx as nx\n",
    "\n",
    "G = nx.Graph()\n",
    "G.add_edge(1, 2) # default edge data=1\n",
    "G.add_edge(2, 3, weight=0.9) # specify edge data\n",
    "import math\n",
    "G.add_edge('y', 'x', function=math.cos)\n",
    "G.add_node(math.cos) # any hashable can be a node\n",
    "\n",
    "X = nx.Graph()\n",
    "X.add_edge(1,2)\n",
    "X.add_edge(1,3)\n",
    "X.add_edge(1,4, weight=0.2)\n",
    "\n",
    "X.add_edge(2,4)\n",
    "\n",
    "print(X.adj)\n",
    "\n",
    "for edges in X.edges:\n",
    "    print(edges)\n",
    "\n",
    "nx.draw(G)"
   ]
  },
  {
   "cell_type": "code",
   "execution_count": null,
   "id": "6c8ed1b9",
   "metadata": {},
   "outputs": [],
   "source": [
    "import networkx as nx\n",
    "\n",
    "G = nx.Graph()\n",
    "\n",
    "for i in range(0,23):\n",
    "    G.add_edge(f\"A{i}\", f\"A{i+1}\") # I am not sure how I want to number them... also how to embed labels in this format???\n",
    "    \n",
    "# Add chest locations\n",
    "\n",
    "G.add_edge('A4', 'B4')\n",
    "\n",
    "print(G.nodes)\n",
    "\n",
    "nx.draw(G)"
   ]
  },
  {
   "cell_type": "code",
   "execution_count": null,
   "id": "1d7d053d",
   "metadata": {
    "scrolled": true
   },
   "outputs": [],
   "source": [
    "G.edges"
   ]
  },
  {
   "cell_type": "code",
   "execution_count": null,
   "id": "48d9ed19",
   "metadata": {},
   "outputs": [],
   "source": []
  },
  {
   "cell_type": "code",
   "execution_count": null,
   "id": "4557443e",
   "metadata": {},
   "outputs": [],
   "source": []
  },
  {
   "cell_type": "code",
   "execution_count": null,
   "id": "0ed10de8",
   "metadata": {},
   "outputs": [],
   "source": []
  },
  {
   "cell_type": "code",
   "execution_count": null,
   "id": "8ea37386",
   "metadata": {},
   "outputs": [],
   "source": [
    "import networkx as nx\n",
    "import matplotlib.pyplot as plt\n",
    "\n",
    "G = nx.Graph()\n",
    "\n",
    "for i in range(0, 24):\n",
    "    # I am not sure how I want to number them... also how to embed labels in this format???\n",
    "    G.add_edge(f\"A{i}\", f\"A{i+1}\")\n",
    "\n",
    "# Add chest locations\n",
    "\n",
    "# print(G.nodes)\n",
    "\n",
    "labeldict = {}\n",
    "\n",
    "for i in range(0, 11):\n",
    "    labeldict[f\"A{i}\"] = f\"f-{i}\"\n",
    "labeldict[\"B4\"] = \"Chest1\"\n",
    "for i in range(11, 21):\n",
    "    labeldict[f\"A{i}\"] = f\"C-{i}\"\n",
    "labeldict[\"A21\"] = \"Town-1\"\n",
    "labeldict[\"A22\"] = \"Town-2\"\n",
    "labeldict[\"A23\"] = \"Town-3\"\n",
    "labeldict[\"A24\"] = \"LeaveTown\"\n",
    "\n",
    "# print(labeldict)\n",
    "\n",
    "G.add_edge('A4', 'B4')\n",
    "\n",
    "# print(G.nodes)\n",
    "# print(G.edges)\n",
    "\n",
    "# def movement(dir):\n",
    "#     for node in G.nodes:\n",
    "#         for edge in G.edges:\n",
    "#             print(f\"nodes:{node}\", f\"edges: {edge}\")\n",
    "\n",
    "# for node in G.nodes:\n",
    "#     for edge in G.edges:\n",
    "#         if node ==\n",
    "\n"
   ]
  },
  {
   "cell_type": "code",
   "execution_count": null,
   "id": "db4eb57c",
   "metadata": {},
   "outputs": [],
   "source": [
    "nodes = [node for node in G.nodes]\n",
    "edges = [edge for edge in G.edges]\n",
    "\n",
    "movePath = [] # to append nodes traveled to with last one in last/first slot [-1] or [0]? I think first might be cheaper but lowkey think the same...... \n",
    "# Need to find a way to compare proximity of nodes... If node exists & nodes are connected via edges defined in G.edges tuples.... (Node1, Node2)\n",
    "def movementOfGraphs(direction):\n",
    "    # Define list for path of nodes traversed\n",
    "    movePath = []\n",
    "    # Define a blank of nodes\n",
    "    node = 'A0' # initial starting position of the game...\n",
    "    # Define a list of valid nodes and edges for movement restriction\n",
    "    nodes = [node for node in G.nodes]\n",
    "    edges = [edge for edge in G.edges]\n",
    "    # Define logic for this... If nodes are next to/exist in edges... I think edges would work better since it would show adjacency better...\n",
    "    if node in nodes:\n",
    "        print(\"Exists!\")\n",
    "        \n",
    "\n",
    "# movementOfGraphs(1)\n",
    "#     if \n",
    "\n",
    "# if nodes in G.nodes:\n",
    "\n",
    "node = 'A0' # initial starting position of the game...\n",
    "neighborNode = 'A1'\n",
    "nodes = [node for node in G.nodes]\n",
    "edges = [edge for edge in G.edges]\n",
    "# Define logic for this... If nodes are next to/exist in edges... I think edges would work better since it would show adjacency better...\n",
    "if node in nodes:\n",
    "    print(\"Exists!\")\n",
    "    if (node, neighborNode) in edges: # think of a way to represent the tuple combinations of nodes this one is adjacent to...\n",
    "        print(\"This edge exists!\")\n",
    "\n",
    "\n",
    "\n",
    "\n",
    "# nx.draw(G, labels=labeldict, with_labels=True)\n",
    "\n",
    "# plt.show()"
   ]
  },
  {
   "cell_type": "code",
   "execution_count": null,
   "id": "bfc6c0cf",
   "metadata": {},
   "outputs": [],
   "source": [
    "G.neighbors['A0']"
   ]
  },
  {
   "cell_type": "code",
   "execution_count": null,
   "id": "f273bae7",
   "metadata": {},
   "outputs": [],
   "source": [
    "G['A0'] # Way to show neighbors? At least shows that 'A0' node is connected to 'A1' node..."
   ]
  },
  {
   "cell_type": "code",
   "execution_count": null,
   "id": "7447b90d",
   "metadata": {},
   "outputs": [],
   "source": [
    "G['A4']"
   ]
  },
  {
   "cell_type": "code",
   "execution_count": null,
   "id": "f95095d2",
   "metadata": {},
   "outputs": [],
   "source": [
    "G.adj['A0']"
   ]
  },
  {
   "cell_type": "code",
   "execution_count": null,
   "id": "f6a05428",
   "metadata": {},
   "outputs": [],
   "source": [
    "node"
   ]
  },
  {
   "cell_type": "code",
   "execution_count": null,
   "id": "5337b6f5",
   "metadata": {},
   "outputs": [],
   "source": [
    "def checkNeighbors(n1, n2):\n",
    "    if n2 in G[n1]:\n",
    "        print(\"This exists!\")\n",
    "# Woot woot! This works right here!"
   ]
  },
  {
   "cell_type": "code",
   "execution_count": null,
   "id": "0a6428d7",
   "metadata": {},
   "outputs": [],
   "source": [
    "def checkNeighbors(n1, n2):\n",
    "    if n2 in G[n1]:\n",
    "        return True\n",
    "# Woot woot! This works right here! Works?\n",
    "# then append this to nodeMove list then call a function that checks the label of the node moved to and if it one \n",
    "# of the labeled 'special' nodes have it trigger a event!!"
   ]
  },
  {
   "cell_type": "code",
   "execution_count": null,
   "id": "6cd48840",
   "metadata": {},
   "outputs": [],
   "source": [
    "def checkNeighbors(n1, n2):\n",
    "    if n2 in G[n1]:\n",
    "        return True\n",
    "# Woot woot! This works right here! Works?\n",
    "# then append this to nodeMove list then call a function that checks the label of the node moved to and if it one \n",
    "# of the labeled 'special' nodes have it trigger a event!!\n",
    "def movement(n1,n2):\n",
    "    global movePath\n",
    "    movePath = []\n",
    "    # initPos = 'A0' # put at the top of main... assign the first node which is 'A0'...\n",
    "    movePath.append(initPos)\n",
    "    if checkNeighbors(n1,n2): # check that it is true\n",
    "        print(\"YASSS\") # just a print statement to see that it works...\n",
    "        movePath.append(n2)\n",
    "        return movePath # not sure if this'll wipe out the 'A1' or not....\n",
    "def checkForEncounterNode(G): # do I need player, enemy in the params for this? hmm....\n",
    "    encounterZones = nx.get_node_attributes(G, \"encounterArea\")\n",
    "    for i in range(0, G.size()):\n",
    "        if f\"A{i}\" in encounterZones.keys():\n",
    "            print(f\"['A{i}']\", \"nodes\")\n",
    "\n",
    "def checkForBattle(player, enemy):    \n",
    "    roll()\n",
    "    if decider > 70: # 30% chance to start combat on any node there is an encounter zone...\n",
    "        start_combat(player, enemy) # 30% chance to start combat! \n",
    "            # think of how to get the (player, enemy) here...\n",
    "    else:\n",
    "        pass\n",
    "\n",
    "def cycleNodeTypes(G, player, enemy):\n",
    "    nodeTypes = ['encounterArea', 'cityArea', 'shopArea', 'fishingArea']\n",
    "    zoneTypes = ['encounterZones', 'cityZones', 'shopZones', 'fishingZones']\n",
    "    for i in range(4):\n",
    "        zoneTypes[i] = nx.get_node_attributes(G, nodeTypes[i])\n",
    "        print(zoneTypes)\n",
    "    for node in nodeTypes:\n",
    "        if node == 'encounterArea':\n",
    "            checkForBattle(player, enemy)\n",
    "        elif node == 'cityArea':\n",
    "            print(\"You are in town!\")\n",
    "        elif node == 'shopArea':\n",
    "            print(\"Feel free to shop around!\")\n",
    "            print(\"ADD IN SHOP FEATURE!\")\n",
    "        elif node == 'fishingArea':\n",
    "            print(\"Drop a line and relax, it's fishing time!\")\n",
    "# Think how to chain these functions together... wtf?\n",
    "\n",
    "# Maybe over thinking this logic... Maybe separate them?\n",
    "\n",
    "# Then can combine these into a logic loop!\n",
    "\n",
    "# while on an encounter zone we can check for encounter node then check for battle condition?\n",
    "# then when we leave the encounter nodes we just switch it to false? Hmm?\n",
    "\n",
    "# then make a similar scanning for while in town and let it scan for each location? Generalize encounterZones\n",
    "# to be a parameter that we can also do cities with? Hmm?\n",
    "# specific nodes for certain implications in towns?\n",
    "\n",
    "# maybe make a list of particular areas? encounterArea, cityArea, etc... \n",
    "# if in some particular one like if it is encounterArea we will trigger checkForBattle and shizz...\n",
    "# cityArea we will see if in there and also on a shop tile to be able to buy from a shop?\n",
    "# think about a currency from monsters... like create a gold gain from when battle ends?\n"
   ]
  },
  {
   "cell_type": "code",
   "execution_count": null,
   "id": "6d0d4bf0",
   "metadata": {},
   "outputs": [],
   "source": [
    "import networkx as nx"
   ]
  },
  {
   "cell_type": "code",
   "execution_count": null,
   "id": "fc88d88a",
   "metadata": {
    "scrolled": true
   },
   "outputs": [],
   "source": [
    "nodeTypes = ['encounterArea', 'cityArea', 'shopArea', 'fishingArea']\n",
    "zoneTypes = ['encounterZones', 'cityZones', 'shopZones', 'fishingZones']\n",
    "for i in range(4):\n",
    "    zoneTypes[i] = nx.get_node_attributes(G, nodeTypes[i])\n",
    "print(zoneTypes)"
   ]
  },
  {
   "cell_type": "code",
   "execution_count": null,
   "id": "d032da31",
   "metadata": {},
   "outputs": [],
   "source": [
    "zoneTypes[0].keys()"
   ]
  },
  {
   "cell_type": "code",
   "execution_count": null,
   "id": "2dce5bcf",
   "metadata": {
    "scrolled": true
   },
   "outputs": [],
   "source": [
    "for node in nodeTypes:\n",
    "    if node == 'encounterArea':\n",
    "        checkForBattle(Kollin, Alex)\n",
    "    elif node == 'cityArea':\n",
    "        print(\"You are in town!\")\n",
    "    elif node == 'shopArea':\n",
    "        print(\"Feel free to shop around!\")\n",
    "        print(\"ADD IN SHOP FEATURE!\")\n",
    "    elif node == 'fishingArea':\n",
    "        print(\"Drop a line and relax, it's fishing time!\")"
   ]
  },
  {
   "cell_type": "code",
   "execution_count": null,
   "id": "e2a27caf",
   "metadata": {},
   "outputs": [],
   "source": []
  },
  {
   "cell_type": "code",
   "execution_count": null,
   "id": "c21ff3db",
   "metadata": {},
   "outputs": [],
   "source": [
    "nodeTypes = ['encounterArea', 'cityArea', 'shopArea', 'fishingArea']\n",
    "for node in nodeTypes:\n",
    "    print(node)"
   ]
  },
  {
   "cell_type": "code",
   "execution_count": null,
   "id": "d49f3542",
   "metadata": {},
   "outputs": [],
   "source": [
    "def cycleNodeTypes(G, player, enemy):\n",
    "    nodeTypes = ['encounterArea', 'cityArea', 'shopArea', 'fishingArea']\n",
    "    zoneTypes = ['encounterZones', 'cityZones', 'shopZones', 'fishingZones']\n",
    "    for i in range(0,4):\n",
    "        zoneTypes[i] = nx.get_node_attributes(G, nodeTypes[i]) # get zone of node label\n",
    "    #     print(zoneTypes)\n",
    "        for j in range(0, G.size()): # iterate over the size of the graph\n",
    "            if f\"A{j}\" in zoneTypes[i].keys(): \n",
    "                print(f\"A{j} is a {list(zoneTypes[i].values())[0]}!\")\n",
    "                if list(zoneTypes[i].values())[0] == 'encounterArea':\n",
    "                    checkForBattle(player, enemy)\n",
    "                elif list(zoneTypes[i].values())[0] == 'cityArea':\n",
    "                    print(\"You are in town!\")\n",
    "                elif list(zoneTypes[i].values())[0] == 'shopArea':\n",
    "                    print(\"Feel free to shop around!\")\n",
    "                    print(\"ADD IN SHOP FEATURE!\")\n",
    "                elif list(zoneTypes[i].values())[0] == 'fishingArea':\n",
    "                    print(\"Drop a line and relax, it's fishing time!\")"
   ]
  },
  {
   "cell_type": "markdown",
   "id": "14a2e2b2",
   "metadata": {},
   "source": [
    "### WIP"
   ]
  },
  {
   "cell_type": "code",
   "execution_count": null,
   "id": "77903ca3",
   "metadata": {},
   "outputs": [],
   "source": [
    "!conda install networkx"
   ]
  },
  {
   "cell_type": "code",
   "execution_count": 2,
   "id": "2a3a1106",
   "metadata": {},
   "outputs": [
    {
     "ename": "ModuleNotFoundError",
     "evalue": "No module named 'networkx'",
     "output_type": "error",
     "traceback": [
      "\u001b[0;31m---------------------------------------------------------------------------\u001b[0m",
      "\u001b[0;31mModuleNotFoundError\u001b[0m                       Traceback (most recent call last)",
      "\u001b[0;32m/var/folders/w6/b4rt07vs4d3fp4pw6gqqn3ph0000gn/T/ipykernel_51250/3059258446.py\u001b[0m in \u001b[0;36m<module>\u001b[0;34m\u001b[0m\n\u001b[0;32m----> 1\u001b[0;31m \u001b[0;32mimport\u001b[0m \u001b[0mnetworkx\u001b[0m \u001b[0;32mas\u001b[0m \u001b[0mnx\u001b[0m\u001b[0;34m\u001b[0m\u001b[0;34m\u001b[0m\u001b[0m\n\u001b[0m",
      "\u001b[0;31mModuleNotFoundError\u001b[0m: No module named 'networkx'"
     ]
    }
   ],
   "source": [
    "import networkx as nx"
   ]
  },
  {
   "cell_type": "code",
   "execution_count": 2,
   "id": "f27c839c",
   "metadata": {},
   "outputs": [
    {
     "ename": "ModuleNotFoundError",
     "evalue": "No module named 'networkx'",
     "output_type": "error",
     "traceback": [
      "\u001b[0;31m---------------------------------------------------------------------------\u001b[0m",
      "\u001b[0;31mModuleNotFoundError\u001b[0m                       Traceback (most recent call last)",
      "\u001b[0;32m/var/folders/w6/b4rt07vs4d3fp4pw6gqqn3ph0000gn/T/ipykernel_50911/1366412210.py\u001b[0m in \u001b[0;36m<module>\u001b[0;34m\u001b[0m\n\u001b[0;32m----> 1\u001b[0;31m \u001b[0;32mimport\u001b[0m \u001b[0mnetworkx\u001b[0m \u001b[0;32mas\u001b[0m \u001b[0mnx\u001b[0m\u001b[0;34m\u001b[0m\u001b[0;34m\u001b[0m\u001b[0m\n\u001b[0m\u001b[1;32m      2\u001b[0m \u001b[0;34m\u001b[0m\u001b[0m\n\u001b[1;32m      3\u001b[0m \u001b[0mG\u001b[0m \u001b[0;34m=\u001b[0m \u001b[0mnx\u001b[0m\u001b[0;34m.\u001b[0m\u001b[0mGraph\u001b[0m\u001b[0;34m(\u001b[0m\u001b[0;34m)\u001b[0m\u001b[0;34m\u001b[0m\u001b[0;34m\u001b[0m\u001b[0m\n\u001b[1;32m      4\u001b[0m \u001b[0;34m\u001b[0m\u001b[0m\n\u001b[1;32m      5\u001b[0m \u001b[0;32mfor\u001b[0m \u001b[0mi\u001b[0m \u001b[0;32min\u001b[0m \u001b[0mrange\u001b[0m\u001b[0;34m(\u001b[0m\u001b[0;36m0\u001b[0m\u001b[0;34m,\u001b[0m\u001b[0;36m23\u001b[0m\u001b[0;34m)\u001b[0m\u001b[0;34m:\u001b[0m\u001b[0;34m\u001b[0m\u001b[0;34m\u001b[0m\u001b[0m\n",
      "\u001b[0;31mModuleNotFoundError\u001b[0m: No module named 'networkx'"
     ]
    }
   ],
   "source": [
    "import networkx as nx\n",
    "\n",
    "G = nx.Graph()\n",
    "\n",
    "for i in range(0,23):\n",
    "    G.add_node(f\"A{i}\") # I am not sure how I want to number them... also how to embed labels in this format???\n",
    "\n",
    "for i in range(1,8):\n",
    "    G.add_node(f\"A{i}\", encounterArea=\"Encounter Zone!\") # Nodes don't have weights... edges do! I forgot lol.\n",
    "# Add chest locations\n",
    "\n",
    "G.add_node(\"A9\", shopArea=\"shopping Zone!\") # Nodes don't have weights... edges do! I forgot lol.\n",
    "G.add_node(\"A10\", fishingArea=\"Fishing Zone!\") # Nodes don't have weights... edges do! I forgot lol.\n",
    "G.add_node(\"A11\", cityArea=\"City Zone!\") # Nodes don't have weights... edges do! I forgot lol.\n",
    "\n",
    "for i in range(0,23):\n",
    "    G.add_edge(f\"A{i}\", f\"A{i+1}\") # I am not sure how I want to number them... also how to embed labels in this format???\n",
    "\n",
    "\n",
    "G.add_edge('A4', 'B4')\n",
    "\n",
    "G.add_edge('A4', 'Z4')\n",
    "\n",
    "\n",
    "print(G.nodes)\n",
    "\n",
    "nx.draw(G)"
   ]
  },
  {
   "cell_type": "code",
   "execution_count": null,
   "id": "26e1e704",
   "metadata": {},
   "outputs": [],
   "source": [
    "# global movePath\n",
    "movePath = []\n",
    "initPos = 'A0' # initial start of map\n",
    "movePath.append(initPos)\n",
    "\n",
    "def checkNeighbors(n1, n2):\n",
    "    if n2 in G[n1]:\n",
    "        return True\n",
    "# Woot woot! This works right here! Works?\n",
    "# then append this to nodeMove list then call a function that checks the label of the node moved to and if it one \n",
    "# of the labeled 'special' nodes have it trigger a event!!\n",
    "def movement(n1,n2):\n",
    "    if checkNeighbors(n1,n2): # check that it is true\n",
    "        print(G[n1])\n",
    "        print(\"YASSS\") # just a print statement to see that it works...\n",
    "        movePath.append(n2)\n",
    "        return movePath # not sure if this'll wipe out the 'A1' or not....\n",
    "    \n",
    "def checkForEncounterNode(G): # do I need player, enemy in the params for this? hmm....\n",
    "    encounterZones = nx.get_node_attributes(G, \"encounterArea\")\n",
    "    for i in range(0, G.size()):\n",
    "        if f\"A{i}\" in encounterZones.keys():\n",
    "            print(f\"['A{i}']\", \"nodes\")\n",
    "            \n",
    "def checkForBattle(player, enemy):    \n",
    "    roll()\n",
    "    if decider > 70: # 30% chance to start combat on any node there is an encounter zone...\n",
    "        start_combat(player, enemy) # 30% chance to start combat! \n",
    "            # think of how to get the (player, enemy) here...\n",
    "    else:\n",
    "        pass\n",
    "    \n",
    "def cycleNodeTypes(G, player, enemy):\n",
    "    nodeTypes = ['encounterArea', 'cityArea', 'shopArea', 'fishingArea']\n",
    "    zoneTypes = ['encounterZones', 'cityZones', 'shopZones', 'fishingZones']\n",
    "    for i in range(0,4):\n",
    "        zoneTypes[i] = nx.get_node_attributes(G, nodeTypes[i]) # get zone of node label\n",
    "    for j in range(0, G.size()): # iterate over the size of the graph\n",
    "        if f\"A{j}\" in movePath[-1]:\n",
    "            if movePath[-1] in list(zoneTypes[0].keys()) and movePath[-1] == f'A{j}':\n",
    "        #         print(\"This is encounter\")\n",
    "                print(f\"this is {list(zoneTypes[0].values())[0]}\")\n",
    "            elif movePath[-1] in list(zoneTypes[1].keys()) and movePath[-1] == f'A{j}':\n",
    "    #             print(\"You are in the city!\")\n",
    "                print(f\"this is {list(zoneTypes[1].values())[0]}\")\n",
    "                print(f\"This is A{j}\")\n",
    "            elif movePath[-1] in list(zoneTypes[2].keys()) and movePath[-1] == f'A{j}':\n",
    "                print(\"Feel free to shop around!\")\n",
    "                print(\"ADD IN SHOP FEATURE!\")\n",
    "                print(f\"this is {list(zoneTypes[2].values())[0]}\")\n",
    "            elif movePath[-1] in list(zoneTypes[3].keys()) and movePath[-1] == f'A{j}':\n",
    "                print(\"Drop a line and relax, it's fishing time!\")# Think how to chain these functions together... wtf?\n",
    "                print(f\"this is {list(zoneTypes[3].values())[0]}\")# Maybe over thinking this logic... Maybe separate them?\n",
    "\n",
    "# Then can combine these into a logic loop!\n",
    "\n",
    "# while on an encounter zone we can check for encounter node then check for battle condition?\n",
    "# then when we leave the encounter nodes we just switch it to false? Hmm?\n",
    "\n",
    "# then make a similar scanning for while in town and let it scan for each location? Generalize encounterZones\n",
    "# to be a parameter that we can also do cities with? Hmm?\n",
    "# specific nodes for certain implications in towns?\n",
    "\n",
    "# maybe make a list of particular areas? encounterArea, cityArea, etc... \n",
    "# if in some particular one like if it is encounterArea we will trigger checkForBattle and shizz...\n",
    "# cityArea we will see if in there and also on a shop tile to be able to buy from a shop?\n",
    "# think about a currency from monsters... like create a gold gain from when battle ends?\n",
    "\n",
    "def promptMovement():\n",
    "    if len(list(G[movePath[-1]])) == 1:\n",
    "        print(f\"current location: {movePath[-1]} \\n 0) {list(G[movePath[-1]])[0]}\")\n",
    "        choice = input(\"Where do you want to move?\")\n",
    "        if choice == \"0\":\n",
    "            movement(movePath[-1], list(G[movePath[-1]])[0])\n",
    "        else:\n",
    "            print(\"not a valid choice, please reselect\")\n",
    "    elif len(list(G[movePath[-1]])) == 2:\n",
    "        print(f\"current location: {movePath[-1]} \\n 0) {list(G[movePath[-1]])[0]} \\n 1) {list(G[movePath[-1]])[1]}\")\n",
    "        choice = input(\"Where do you want to move?\")\n",
    "        if choice == \"0\":\n",
    "            movement(movePath[-1], list(G[movePath[-1]])[0])\n",
    "        elif choice == \"1\":\n",
    "#             print((movePath[-1], list(G[movePath[-1]])[1]))\n",
    "            movement(movePath[-1], list(G[movePath[-1]])[1])\n",
    "        else:\n",
    "            print(\"not a valid choice, please reselect\")\n",
    "    elif len(list(G[movePath[-1]])) == 3:\n",
    "        print(f\"current location: {movePath[-1]} \\n 0) {list(G[movePath[-1]])[0]} \\n 1) {list(G[movePath[-1]])[1]} \\n 2) {list(G[movePath[-1]])[2]}\")\n",
    "        choice = input(\"Where do you want to move?\")\n",
    "        if choice == \"0\":\n",
    "            movement(movePath[-1], list(G[movePath[-1]])[0])\n",
    "        elif choice == \"1\":\n",
    "            movement(movePath[-1], list(G[movePath[-1]])[1])\n",
    "        elif choice == \"2\":\n",
    "            movement(movePath[-1], list(G[movePath[-1]])[2])\n",
    "        else:\n",
    "            print(\"not a valid choice, please reselect\")\n",
    "    elif len(list(G[movePath[-1]])) == 4:\n",
    "        print(f\"current location: {movePath[-1]} \\n 0) {list(G[movePath[-1]])[0]} \\n 1) {list(G[movePath[-1]])[1]} \\n 2) {list(G[movePath[-1]])[2]} \\n 3) {list(G[movePath[-1]])[3]}\")\n",
    "        choice = input(\"Where do you want to move?\")\n",
    "        if choice == \"0\":\n",
    "            movement(movePath[-1], list(G[movePath[-1]])[0])\n",
    "        elif choice == \"1\":\n",
    "            movement(movePath[-1], list(G[movePath[-1]])[1])\n",
    "        elif choice == \"2\":\n",
    "            movement(movePath[-1], list(G[movePath[-1]])[2])\n",
    "        elif choice == \"3\":\n",
    "            movement(movePath[-1], list(G[movePath[-1]])[3])\n",
    "        else:\n",
    "            print(\"not a valid choice, please reselect\")\n",
    "    elif len(list(G[movePath[-1]])) == 5:\n",
    "        print(f\"current location: {movePath[-1]} \\n 0) {list(G[movePath[-1]])[0]} \\n 1) {list(G[movePath[-1]])[1]} \\n 2) {list(G[movePath[-1]])[2]} \\n 3) {list(G[movePath[-1]])[3]} \\n 4) {list(G[movePath[-1]])[4]}\")\n",
    "        choice = input(\"Where do you want to move?\")\n",
    "        if choice == \"0\":\n",
    "            movement(movePath[-1], list(G[movePath[-1]])[0])\n",
    "        elif choice == \"1\":\n",
    "            movement(movePath[-1], list(G[movePath[-1]])[1])\n",
    "        elif choice == \"2\":\n",
    "            movement(movePath[-1], list(G[movePath[-1]])[2])\n",
    "        elif choice == \"3\":\n",
    "            movement(movePath[-1], list(G[movePath[-1]])[3])\n",
    "        elif choice == \"4\":\n",
    "            movement(movePath[-1], list(G[movePath[-1]])[4])\n",
    "        else:\n",
    "            print(\"not a valid choice, please reselect\")"
   ]
  },
  {
   "cell_type": "code",
   "execution_count": null,
   "id": "2e431d78",
   "metadata": {
    "scrolled": false
   },
   "outputs": [],
   "source": [
    "movePath = []\n",
    "initPos = 'A0' # initial start of map\n",
    "movePath.append(initPos)\n",
    "for i in range(0,9):\n",
    "    movement(f\"A{i}\", f\"A{i+1}\")"
   ]
  },
  {
   "cell_type": "code",
   "execution_count": null,
   "id": "6775a31f",
   "metadata": {},
   "outputs": [],
   "source": [
    "nodeTypes = ['encounterArea', 'cityArea', 'shopArea', 'fishingArea']\n",
    "zoneTypes = ['encounterZones', 'cityZones', 'shopZones', 'fishingZones']\n",
    "for i in range(0,4):\n",
    "    zoneTypes[i] = nx.get_node_attributes(G, nodeTypes[i]) # get zone of node label\n",
    "    #     print(zoneTypes)"
   ]
  },
  {
   "cell_type": "code",
   "execution_count": null,
   "id": "836068eb",
   "metadata": {},
   "outputs": [],
   "source": [
    "print(zoneTypes)"
   ]
  },
  {
   "cell_type": "code",
   "execution_count": null,
   "id": "de91c2c5",
   "metadata": {},
   "outputs": [],
   "source": [
    "print(movePath)"
   ]
  },
  {
   "cell_type": "code",
   "execution_count": null,
   "id": "9d8fb4b3",
   "metadata": {},
   "outputs": [],
   "source": []
  },
  {
   "cell_type": "code",
   "execution_count": null,
   "id": "780d8b98",
   "metadata": {},
   "outputs": [],
   "source": [
    "movePath"
   ]
  },
  {
   "cell_type": "code",
   "execution_count": null,
   "id": "5dfd2071",
   "metadata": {},
   "outputs": [],
   "source": [
    "movePath"
   ]
  },
  {
   "cell_type": "code",
   "execution_count": null,
   "id": "eb885fc5",
   "metadata": {
    "scrolled": true
   },
   "outputs": [],
   "source": [
    "movePath[-1]"
   ]
  },
  {
   "cell_type": "code",
   "execution_count": null,
   "id": "8ae7227c",
   "metadata": {},
   "outputs": [],
   "source": [
    "list(zoneTypes[3].values())[0]"
   ]
  },
  {
   "cell_type": "code",
   "execution_count": null,
   "id": "e852c8a7",
   "metadata": {},
   "outputs": [],
   "source": [
    "list(zoneTypes[3].values())[0]"
   ]
  },
  {
   "cell_type": "code",
   "execution_count": null,
   "id": "22798ca5",
   "metadata": {},
   "outputs": [],
   "source": [
    "cycleNodeTypes(G, Kollin, Alex)"
   ]
  },
  {
   "cell_type": "code",
   "execution_count": null,
   "id": "79355d09",
   "metadata": {},
   "outputs": [],
   "source": []
  },
  {
   "cell_type": "code",
   "execution_count": null,
   "id": "d4ba7b01",
   "metadata": {},
   "outputs": [],
   "source": [
    "if f\"A{j}\" == movePath[-1]: # look at newest\n",
    "    if f\"A{j}\" in list(zoneTypes[0].keys()):\n",
    "        print(\"This is encounter\")\n",
    "    elif f\"A{j}\" in list(zoneTypes[1].keys()):\n",
    "        print(\"You are in the city!\")\n",
    "    elif f\"A{j}\" in list(zoneTypes[2].keys()):\n",
    "        print(\"Feel free to shop around!\")\n",
    "        print(\"ADD IN SHOP FEATURE!\")\n",
    "    elif f\"A{j}\" in list(zoneTypes[3].keys()):\n",
    "        print(\"Drop a line and relax, it's fishing time!\")# Think how to chain these functions together... wtf?"
   ]
  },
  {
   "cell_type": "code",
   "execution_count": null,
   "id": "c9c5b311",
   "metadata": {},
   "outputs": [],
   "source": [
    "if 'A11' == movePath[-1]: # look at newest\n",
    "    if 'A11' in list(zoneTypes[0].keys()):\n",
    "        print(\"This is encounter\")\n",
    "    elif 'A11' in list(zoneTypes[1].keys()):\n",
    "        print(\"You are in the city!\")\n",
    "    elif 'A11' in list(zoneTypes[2].keys()):\n",
    "        print(\"Feel free to shop around!\")\n",
    "        print(\"ADD IN SHOP FEATURE!\")\n",
    "    elif 'A11' in list(zoneTypes[3].keys()):\n",
    "        print(\"Drop a line and relax, it's fishing time!\")# Think how to chain these functions together... wtf?"
   ]
  },
  {
   "cell_type": "code",
   "execution_count": null,
   "id": "b52bcb7f",
   "metadata": {},
   "outputs": [],
   "source": [
    "list(zoneTypes[0].keys())"
   ]
  },
  {
   "cell_type": "code",
   "execution_count": null,
   "id": "9e6575ab",
   "metadata": {},
   "outputs": [],
   "source": []
  },
  {
   "cell_type": "code",
   "execution_count": null,
   "id": "cb8dab50",
   "metadata": {},
   "outputs": [],
   "source": [
    "movePath[-1]"
   ]
  },
  {
   "cell_type": "code",
   "execution_count": null,
   "id": "cf8aaae6",
   "metadata": {},
   "outputs": [],
   "source": [
    "if 'A11' == movePath[-1]: # look at newest\n",
    "    print(\"True\")\n",
    "#     if 'A11' in list(zoneTypes[0].values())[0]:\n",
    "#         print(\"This is encounter\")\n",
    "#     elif 'A11' in list(zoneTypes[1].values())[0]:\n",
    "#         print(\"You are in town!\")\n",
    "#     elif 'A11' in list(zoneTypes[2].values())[0]:\n",
    "#         print(\"Feel free to shop around!\")\n",
    "#         print(\"ADD IN SHOP FEATURE!\")\n",
    "#     elif 'A11' in list(zoneTypes[3].values())[0]:\n",
    "#         print(\"Drop a line and relax, it's fishing time!\")# Think how to chain these functions together... wtf?"
   ]
  },
  {
   "cell_type": "code",
   "execution_count": null,
   "id": "56636cb1",
   "metadata": {},
   "outputs": [],
   "source": [
    "'A11' in list(zoneTypes[3].values())[0]"
   ]
  },
  {
   "cell_type": "code",
   "execution_count": null,
   "id": "15990c56",
   "metadata": {},
   "outputs": [],
   "source": [
    "list(zoneTypes[3].values())[0]"
   ]
  },
  {
   "cell_type": "code",
   "execution_count": null,
   "id": "4d622a40",
   "metadata": {},
   "outputs": [],
   "source": [
    "nodeTypes = ['encounterArea', 'cityArea', 'shopArea', 'fishingArea']\n",
    "zoneTypes = ['encounterZones', 'cityZones', 'shopZones', 'fishingZones']\n",
    "for i in range(0,4):\n",
    "    zoneTypes[i] = nx.get_node_attributes(G, nodeTypes[i]) # get zone of node label\n",
    "for j in range(0, G.size()): # iterate over the size of the graph\n",
    "    if (f\"A{j}\" in movePath[-1]) and (f\"A{j}\" in list(zoneTypes[0].keys())):\n",
    "#         print(\"This is encounter\")\n",
    "        print(f\"this is {list(zoneTypes[0].values())[0]}\")\n",
    "    elif (f\"A{j}\" in movePath[-1]) and (f\"A{j}\" in list(zoneTypes[1].keys())):\n",
    "        print(\"You are in the city!\")\n",
    "        print(f\"this is {list(zoneTypes[1].values())[0]}\")\n",
    "    elif (f\"A{j}\" in movePath[-1]) and (f\"A{j}\" in list(zoneTypes[2].keys())):\n",
    "        print(\"Feel free to shop around!\")\n",
    "        print(\"ADD IN SHOP FEATURE!\")\n",
    "        print(f\"this is {list(zoneTypes[2].values())[0]}\")\n",
    "    elif (f\"A{j}\" in movePath[-1]) and (f\"A{j}\" in list(zoneTypes[3].keys())):\n",
    "        print(\"Drop a line and relax, it's fishing time!\")# Think how to chain these functions together... wtf?\n",
    "        print(f\"this is {list(zoneTypes[3].values())[0]}\")"
   ]
  },
  {
   "cell_type": "markdown",
   "id": "4bfb7493",
   "metadata": {},
   "source": [
    "#### Current version"
   ]
  },
  {
   "cell_type": "code",
   "execution_count": null,
   "id": "0fc3600c",
   "metadata": {
    "scrolled": false
   },
   "outputs": [],
   "source": [
    "nodeTypes = ['encounterArea', 'cityArea', 'shopArea', 'fishingArea']\n",
    "zoneTypes = ['encounterZones', 'cityZones', 'shopZones', 'fishingZones']\n",
    "for i in range(0,4):\n",
    "    zoneTypes[i] = nx.get_node_attributes(G, nodeTypes[i]) # get zone of node label\n",
    "for j in range(0, G.size()): # iterate over the size of the graph\n",
    "    if f\"A{j}\" in movePath[-1]:\n",
    "        if movePath[-1] in list(zoneTypes[0].keys()) and movePath[-1] == f'A{j}':\n",
    "    #         print(\"This is encounter\")\n",
    "            print(f\"this is {list(zoneTypes[0].values())[0]}\")\n",
    "        elif movePath[-1] in list(zoneTypes[1].keys()) and movePath[-1] == f'A{j}':\n",
    "#             print(\"You are in the city!\")\n",
    "            print(f\"this is {list(zoneTypes[1].values())[0]}\")\n",
    "            print(f\"This is A{j}\")\n",
    "        elif movePath[-1] in list(zoneTypes[2].keys()) and movePath[-1] == f'A{j}':\n",
    "            print(\"Feel free to shop around!\")\n",
    "            print(\"ADD IN SHOP FEATURE!\")\n",
    "            print(f\"this is {list(zoneTypes[2].values())[0]}\")\n",
    "        elif movePath[-1] in list(zoneTypes[3].keys()) and movePath[-1] == f'A{j}':\n",
    "            print(\"Drop a line and relax, it's fishing time!\")# Think how to chain these functions together... wtf?\n",
    "            print(f\"this is {list(zoneTypes[3].values())[0]}\")"
   ]
  },
  {
   "cell_type": "markdown",
   "id": "cd900f8e",
   "metadata": {},
   "source": [
    "#### Current Movement"
   ]
  },
  {
   "cell_type": "code",
   "execution_count": null,
   "id": "aa9c054e",
   "metadata": {},
   "outputs": [],
   "source": [
    "movePath = []\n",
    "initPos = 'A0' # initial start of map\n",
    "movePath.append(initPos)"
   ]
  },
  {
   "cell_type": "code",
   "execution_count": null,
   "id": "c9f16dce",
   "metadata": {},
   "outputs": [],
   "source": [
    "print(movePath)"
   ]
  },
  {
   "cell_type": "code",
   "execution_count": null,
   "id": "e41bf299",
   "metadata": {},
   "outputs": [],
   "source": [
    "def checkLastPos(n1):\n",
    "    if n1 == movePath[-1]:\n",
    "        return True\n",
    "    else: \n",
    "        return False"
   ]
  },
  {
   "cell_type": "code",
   "execution_count": null,
   "id": "cf6481a1",
   "metadata": {},
   "outputs": [],
   "source": [
    "def movement(n1,n2):\n",
    "    if checkLastPos(n1):\n",
    "        if checkNeighbors(n1,n2): # check that it is true\n",
    "#             print(list(G[n1]))\n",
    "    #         print(\"YASSS\") # just a print statement to see that it works...\n",
    "            movePath.append(n2)\n",
    "            return movePath # not sure if this'll wipe out the 'A1' or not....\n",
    "    elif movePath[-1] != n1: \n",
    "        print(\"Need to start from the current node!\")\n",
    "    else:\n",
    "        print(\"Cannot move to the same node!\")"
   ]
  },
  {
   "cell_type": "code",
   "execution_count": null,
   "id": "fd71f5aa",
   "metadata": {},
   "outputs": [],
   "source": [
    "movement('A4', 'A5')"
   ]
  },
  {
   "cell_type": "code",
   "execution_count": null,
   "id": "794bfa76",
   "metadata": {},
   "outputs": [],
   "source": [
    "len(G['A2'])"
   ]
  },
  {
   "cell_type": "code",
   "execution_count": null,
   "id": "bcb7a9c7",
   "metadata": {},
   "outputs": [],
   "source": [
    "print(len(G['A4']))"
   ]
  },
  {
   "cell_type": "code",
   "execution_count": null,
   "id": "fd4213e9",
   "metadata": {},
   "outputs": [],
   "source": [
    "G['A4']"
   ]
  },
  {
   "cell_type": "code",
   "execution_count": null,
   "id": "1b83b6c6",
   "metadata": {},
   "outputs": [],
   "source": [
    "for neighbors in G['A4']:\n",
    "    choice = input(\"Which way would you like to move?\")\n",
    "    if choice == '1':\n",
    "        print(\"dsjakd\")\n",
    "        break\n",
    "    elif choice == '2':\n",
    "        print(\"sada\")\n",
    "        break\n",
    "    elif choice == '3':\n",
    "        print(\"kljjlk\")\n",
    "        break\n",
    "    elif choice == '4':\n",
    "        print(\"asnxc\")\n",
    "        break"
   ]
  },
  {
   "cell_type": "code",
   "execution_count": null,
   "id": "e808429a",
   "metadata": {},
   "outputs": [],
   "source": [
    "choices = G['A4']\n",
    "for options in choices:\n",
    "    options = input(f\"There are {len(G['A4'])} choices! \\n 1){choices[0]} \\n 2){choices[1]} \\n 3){choices[2]} \")\n",
    "    if choice == choices:\n",
    "        if movePath[-1]:\n",
    "            break"
   ]
  },
  {
   "cell_type": "code",
   "execution_count": null,
   "id": "dbb923ec",
   "metadata": {},
   "outputs": [],
   "source": [
    "for i in range(len(list(G['A4']))):\n",
    "    if choice == f\"{i}\":\n",
    "        print(movePath[-1], movePath[-2])\n",
    "        break\n",
    "    elif choice == f\"{i}\":\n",
    "        print(movePath[-1], movePath[-2])\n",
    "        break\n",
    "    elif choice == f\"{i}\":\n",
    "        print(movePath[-1], movePath[-2])\n",
    "        break\n",
    "    print(i)\n",
    "choice = input(\"Where do you want to move?\")"
   ]
  },
  {
   "cell_type": "code",
   "execution_count": null,
   "id": "39bd680d",
   "metadata": {},
   "outputs": [],
   "source": [
    "def promptMovement():\n",
    "    if len(list(G[movePath[-1]])) == 1:\n",
    "        print(f\"current location: {movePath[-1]} \\n 0) {list(G[movePath[-1]])[0]}\")\n",
    "        choice = input(\"Where do you want to move?\")\n",
    "        if choice == \"0\":\n",
    "            movement(movePath[-1], list(G[movePath[-1]])[0])\n",
    "        else:\n",
    "            print(\"not a valid choice, please reselect\")\n",
    "    elif len(list(G[movePath[-1]])) == 2:\n",
    "        print(f\"current location: {movePath[-1]} \\n 0) {list(G[movePath[-1]])[0]} \\n 1) {list(G[movePath[-1]])[1]}\")\n",
    "        choice = input(\"Where do you want to move?\")\n",
    "        if choice == \"0\":\n",
    "            movement(movePath[-1], list(G[movePath[-1]])[0])\n",
    "        elif choice == \"1\":\n",
    "#             print((movePath[-1], list(G[movePath[-1]])[1]))\n",
    "            movement(movePath[-1], list(G[movePath[-1]])[1])\n",
    "        else:\n",
    "            print(\"not a valid choice, please reselect\")\n",
    "    elif len(list(G[movePath[-1]])) == 3:\n",
    "        print(f\"current location: {movePath[-1]} \\n 0) {list(G[movePath[-1]])[0]} \\n 1) {list(G[movePath[-1]])[1]} \\n 2) {list(G[movePath[-1]])[2]}\")\n",
    "        choice = input(\"Where do you want to move?\")\n",
    "        if choice == \"0\":\n",
    "            movement(movePath[-1], list(G[movePath[-1]])[0])\n",
    "        elif choice == \"1\":\n",
    "            movement(movePath[-1], list(G[movePath[-1]])[1])\n",
    "        elif choice == \"2\":\n",
    "            movement(movePath[-1], list(G[movePath[-1]])[2])\n",
    "        else:\n",
    "            print(\"not a valid choice, please reselect\")\n",
    "    elif len(list(G[movePath[-1]])) == 4:\n",
    "        print(f\"current location: {movePath[-1]} \\n 0) {list(G[movePath[-1]])[0]} \\n 1) {list(G[movePath[-1]])[1]} \\n 2) {list(G[movePath[-1]])[2]} \\n 3) {list(G[movePath[-1]])[3]}\")\n",
    "        choice = input(\"Where do you want to move?\")\n",
    "        if choice == \"0\":\n",
    "            movement(movePath[-1], list(G[movePath[-1]])[0])\n",
    "        elif choice == \"1\":\n",
    "            movement(movePath[-1], list(G[movePath[-1]])[1])\n",
    "        elif choice == \"2\":\n",
    "            movement(movePath[-1], list(G[movePath[-1]])[2])\n",
    "        elif choice == \"3\":\n",
    "            movement(movePath[-1], list(G[movePath[-1]])[3])\n",
    "        else:\n",
    "            print(\"not a valid choice, please reselect\")"
   ]
  },
  {
   "cell_type": "code",
   "execution_count": null,
   "id": "922db826",
   "metadata": {},
   "outputs": [],
   "source": [
    "movePath = []\n",
    "initPos = 'A0' # initial start of map\n",
    "movePath.append(initPos)\n",
    "for i in range(0,3):\n",
    "    movement(f\"A{i}\", f\"A{i+1}\")"
   ]
  },
  {
   "cell_type": "code",
   "execution_count": null,
   "id": "e7fd8f01",
   "metadata": {},
   "outputs": [],
   "source": [
    "list(G[movePath[-1]])[1]"
   ]
  },
  {
   "cell_type": "code",
   "execution_count": null,
   "id": "4459a5f2",
   "metadata": {},
   "outputs": [],
   "source": []
  },
  {
   "cell_type": "code",
   "execution_count": null,
   "id": "ef9f0760",
   "metadata": {},
   "outputs": [],
   "source": [
    "print(movePath)"
   ]
  },
  {
   "cell_type": "code",
   "execution_count": null,
   "id": "31ad89bc",
   "metadata": {
    "scrolled": true
   },
   "outputs": [],
   "source": [
    "for i in range(0,10):\n",
    "    promptMovement()"
   ]
  },
  {
   "cell_type": "markdown",
   "id": "a1d1239e",
   "metadata": {},
   "source": [
    "#### For loop this code..."
   ]
  },
  {
   "cell_type": "code",
   "execution_count": null,
   "id": "764ecd8a",
   "metadata": {},
   "outputs": [],
   "source": [
    "def promptMovement():\n",
    "    for options in G[movePath[-1]]:\n",
    "        print(options)\n"
   ]
  },
  {
   "cell_type": "code",
   "execution_count": null,
   "id": "6401a0fb",
   "metadata": {},
   "outputs": [],
   "source": [
    "G[movePath[-1]]\n",
    "for options in G[movePath[-1]]:\n",
    "    print(options)\n",
    "    if len(list(G[movePath[-1]])) == 1:\n",
    "        print(f\"current location: {movePath[-1]} \\n 0) {list(G[movePath[-1]])[0]}\")\n",
    "        choice = input(\"Where do you want to move?\")\n",
    "        if choice == \"0\":\n",
    "            movement(movePath[-1], list(G[movePath[-1]])[0])\n",
    "        else:\n",
    "            print(\"not a valid choice, please reselect\")\n",
    "    elif len(list(G[movePath[-1]])) == 2:\n",
    "        print(f\"current location: {movePath[-1]} \\n 0) {list(G[movePath[-1]])[0]} \\n 1) {list(G[movePath[-1]])[1]}\")\n",
    "        choice = input(\"Where do you want to move?\")\n",
    "        if choice == \"0\":\n",
    "            movement(movePath[-1], list(G[movePath[-1]])[0])\n",
    "        elif choice == \"1\":\n",
    "            print((movePath[-1], list(G[movePath[-1]])[1]))\n",
    "            movement(movePath[-1], list(G[movePath[-1]])[1])\n",
    "        else:\n",
    "            print(\"not a valid choice, please reselect\")\n",
    "    elif len(list(G[movePath[-1]])) == 3:\n",
    "        print(f\"current location: {movePath[-1]} \\n 0) {list(G[movePath[-1]])[0]} \\n 1) {list(G[movePath[-1]])[1]} \\n 2) {list(G[movePath[-1]])[2]}\")\n",
    "        choice = input(\"Where do you want to move?\")\n",
    "        if choice == \"0\":\n",
    "            movement(movePath[-1], list(G[movePath[-1]])[0])\n",
    "        elif choice == \"1\":\n",
    "            movement(movePath[-1], list(G[movePath[-1]])[1])\n",
    "        elif choice == \"2\":\n",
    "            movement(movePath[-1], list(G[movePath[-1]])[2])\n",
    "        else:\n",
    "            print(\"not a valid choice, please reselect\")\n",
    "    elif len(list(G[movePath[-1]])) == 4:\n",
    "        print(f\"current location: {movePath[-1]} \\n 0) {list(G[movePath[-1]])[0]} \\n 1) {list(G[movePath[-1]])[1]} \\n 2) {list(G[movePath[-1]])[2]} \\n 3) {list(G[movePath[-1]])[3]}\")\n",
    "        choice = input(\"Where do you want to move?\")\n",
    "        if choice == \"0\":\n",
    "            movement(movePath[-1], list(G[movePath[-1]])[0])\n",
    "        elif choice == \"1\":\n",
    "            movement(movePath[-1], list(G[movePath[-1]])[1])\n",
    "        elif choice == \"2\":\n",
    "            movement(movePath[-1], list(G[movePath[-1]])[2])\n",
    "        elif choice == \"3\":\n",
    "            movement(movePath[-1], list(G[movePath[-1]])[3])\n",
    "        else:\n",
    "            print(\"not a valid choice, please reselect\")\n"
   ]
  },
  {
   "cell_type": "code",
   "execution_count": null,
   "id": "ec05feb8",
   "metadata": {},
   "outputs": [],
   "source": [
    "G[movePath[-1]]\n",
    "for options in G[movePath[-1]]:\n",
    "    print(options)\n",
    "    if len(list(G[movePath[-1]])) == 1:\n",
    "        print(f\"current location: {movePath[-1]}\")\n",
    "        for i in range(len(G[movePath[-1]])):\n",
    "            print(f\"{i}) {list(G[movePath[-1]])[i]}\")\n",
    "        choice = input(\"Where do you want to move?\")\n",
    "        for i in range(len(G[movePath[-1]])):\n",
    "            if choice == i:\n",
    "                movement(movePath[-1], list(G[movePath[-1]])[0])\n",
    "            else:\n",
    "                print(\"not a valid choice, please reselect\")\n",
    "    elif len(list(G[movePath[-1]])) == 2:\n",
    "        print(f\"current location: {movePath[-1]} \\n 0) {list(G[movePath[-1]])[0]} \\n 1) {list(G[movePath[-1]])[1]}\")\n",
    "        choice = input(\"Where do you want to move?\")\n",
    "        if choice == \"0\":\n",
    "            movement(movePath[-1], list(G[movePath[-1]])[0])\n",
    "        elif choice == \"1\":\n",
    "            print((movePath[-1], list(G[movePath[-1]])[1]))\n",
    "            movement(movePath[-1], list(G[movePath[-1]])[1])\n",
    "        else:\n",
    "            print(\"not a valid choice, please reselect\")\n",
    "    elif len(list(G[movePath[-1]])) == 3:\n",
    "        print(f\"current location: {movePath[-1]} \\n 0) {list(G[movePath[-1]])[0]} \\n 1) {list(G[movePath[-1]])[1]} \\n 2) {list(G[movePath[-1]])[2]}\")\n",
    "        choice = input(\"Where do you want to move?\")\n",
    "        if choice == \"0\":\n",
    "            movement(movePath[-1], list(G[movePath[-1]])[0])\n",
    "        elif choice == \"1\":\n",
    "            movement(movePath[-1], list(G[movePath[-1]])[1])\n",
    "        elif choice == \"2\":\n",
    "            movement(movePath[-1], list(G[movePath[-1]])[2])\n",
    "        else:\n",
    "            print(\"not a valid choice, please reselect\")\n",
    "    elif len(list(G[movePath[-1]])) == 4:\n",
    "        print(f\"current location: {movePath[-1]} \\n 0) {list(G[movePath[-1]])[0]} \\n 1) {list(G[movePath[-1]])[1]} \\n 2) {list(G[movePath[-1]])[2]} \\n 3) {list(G[movePath[-1]])[3]}\")\n",
    "        choice = input(\"Where do you want to move?\")\n",
    "        if choice == \"0\":\n",
    "            movement(movePath[-1], list(G[movePath[-1]])[0])\n",
    "        elif choice == \"1\":\n",
    "            movement(movePath[-1], list(G[movePath[-1]])[1])\n",
    "        elif choice == \"2\":\n",
    "            movement(movePath[-1], list(G[movePath[-1]])[2])\n",
    "        elif choice == \"3\":\n",
    "            movement(movePath[-1], list(G[movePath[-1]])[3])\n",
    "        else:\n",
    "            print(\"not a valid choice, please reselect\")"
   ]
  },
  {
   "cell_type": "code",
   "execution_count": null,
   "id": "e5793dd9",
   "metadata": {
    "scrolled": true
   },
   "outputs": [],
   "source": [
    "for i in range(len(G[movePath[-1]])):\n",
    "    print(i)\n"
   ]
  },
  {
   "cell_type": "code",
   "execution_count": null,
   "id": "f327d01e",
   "metadata": {},
   "outputs": [],
   "source": [
    "for options in G[movePath[-1]]:\n",
    "    print(options)"
   ]
  },
  {
   "cell_type": "code",
   "execution_count": null,
   "id": "cda7f1fd",
   "metadata": {},
   "outputs": [],
   "source": [
    "movePath = []\n",
    "initPos = 'A0' # initial start of map\n",
    "movePath.append(initPos)"
   ]
  },
  {
   "cell_type": "code",
   "execution_count": null,
   "id": "ecdfc940",
   "metadata": {},
   "outputs": [],
   "source": [
    "movePath"
   ]
  },
  {
   "cell_type": "code",
   "execution_count": null,
   "id": "177f20f6",
   "metadata": {},
   "outputs": [],
   "source": [
    "for i in range(0,G.size()):\n",
    "    movement(f\"A{i}\", f\"A{i+1}\")"
   ]
  },
  {
   "cell_type": "code",
   "execution_count": null,
   "id": "d4cab5b4",
   "metadata": {},
   "outputs": [],
   "source": [
    "movePath"
   ]
  },
  {
   "cell_type": "code",
   "execution_count": null,
   "id": "035f2485",
   "metadata": {},
   "outputs": [],
   "source": [
    "list(G[movePath[-1]])[0]"
   ]
  },
  {
   "cell_type": "code",
   "execution_count": null,
   "id": "fcf4426e",
   "metadata": {},
   "outputs": [],
   "source": [
    "movePath[-1]"
   ]
  },
  {
   "cell_type": "code",
   "execution_count": null,
   "id": "47365dbb",
   "metadata": {
    "scrolled": true
   },
   "outputs": [],
   "source": [
    "    if len(list(G[movePath[-1]])) == 1:\n",
    "        print(f\"current location: {movePath[-1]}\")\n",
    "        for i in range(len(G[movePath[-1]])):\n",
    "            print(f\"{i}) {list(G[movePath[-1]])[i]}\")\n",
    "        choice = input(\"Where do you want to move?\")\n"
   ]
  },
  {
   "cell_type": "code",
   "execution_count": null,
   "id": "52cd5510",
   "metadata": {},
   "outputs": [],
   "source": [
    "G[movePath[-1]]"
   ]
  },
  {
   "cell_type": "code",
   "execution_count": null,
   "id": "49186627",
   "metadata": {
    "scrolled": false
   },
   "outputs": [],
   "source": [
    "# for options in G[movePath[-1]]:\n",
    "#     print(options) # it printing this out...\n",
    "#     for i in range(0,len(G[movePath[-1]])+1):\n",
    "#         if len(list(G[movePath[-1]])) == i:\n",
    "#             print(f\"current location: {movePath[-1]}\")\n",
    "#             print(f\"{i}) {list(G[movePath[-1]])[i]}\")\n",
    "#     #            for i in range(0,len(G[movePath[-1]])+1):\n",
    "#             while choice != 'q':\n",
    "#                 choice = input(\"Where do you want to move?: \")\n",
    "#                 if choice == i:\n",
    "#                     print(f\"{i}) {list(G[movePath[-1]])[i]}\")\n",
    "#                     movement(movePath[-1], list(G[movePath[-1]])[j])\n",
    "#                     for i in range(len(G[movePath[-1]])):\n",
    "#                         print(f\"{i}) {list(G[movePath[-1]])[j]}\")\n",
    "#                     print(f\"current location: {movePath[-1]}\")"
   ]
  },
  {
   "cell_type": "code",
   "execution_count": null,
   "id": "137b0fd9",
   "metadata": {
    "scrolled": true
   },
   "outputs": [],
   "source": [
    "# for options in G[movePath[-1]]:\n",
    "#     print(options) # it printing this out...\n",
    "moveStage = True\n",
    "while moveStage:\n",
    "    for i in range(0,len(G[movePath[-1]])):\n",
    "    #     print(f\"{i}) {list(G[movePath[-1]])[i]}\")\n",
    "        #         if len(list(G[movePath[-1]])) == i:\n",
    "        print(\"outer current start\")\n",
    "        print(f\"current location: {movePath[-1]}\")\n",
    "        print(\"outer current end\")\n",
    "\n",
    "        print(f\"{i}) {list(G[movePath[-1]])[i]}\")\n",
    "\n",
    "        print(\"choice start\")\n",
    "        choice = int(input(\"Where do you want to move?: \"))\n",
    "        print(\"choice end\")\n",
    "\n",
    "    #     while choice.isdigit() and choice != 'q':\n",
    "    #     print(\"start while\")\n",
    "    #     print(f\"{i}) {list(G[movePath[-1]])[i]}\")\n",
    "    #     choice = input(\"Where do you want to move?: \")\n",
    "        if choice == i:\n",
    "            print(f\"{i}) {list(G[movePath[-1]])[i]}\")\n",
    "    #             print(f\"{i}) {list(G[movePath[-1]])[i]}\")\n",
    "    #             print(f\"{i}) {list(G[movePath[-1]])[i]}\")\n",
    "\n",
    "            print(\"movement start\")\n",
    "            movement(movePath[-1], list(G[movePath[-1]])[i])\n",
    "            print(\"movement end\")\n",
    "\n",
    "            print(\"what\")\n",
    "            print(f\"current location: {movePath[-1]}\")\n",
    "#     print(\"end if while\")\n",
    "            \n",
    "# not reproccing the choice option"
   ]
  },
  {
   "cell_type": "code",
   "execution_count": null,
   "id": "2bb4b94a",
   "metadata": {},
   "outputs": [],
   "source": [
    "'1Q'.isdigit()"
   ]
  },
  {
   "cell_type": "code",
   "execution_count": null,
   "id": "2e47053c",
   "metadata": {},
   "outputs": [],
   "source": [
    "choice = input(\"Where do you want to move?: \")"
   ]
  },
  {
   "cell_type": "code",
   "execution_count": null,
   "id": "568a0be3",
   "metadata": {},
   "outputs": [],
   "source": [
    "choice.isdigit()"
   ]
  },
  {
   "cell_type": "code",
   "execution_count": null,
   "id": "1b303d29",
   "metadata": {
    "scrolled": true
   },
   "outputs": [],
   "source": [
    "print(type(choice))"
   ]
  },
  {
   "cell_type": "code",
   "execution_count": null,
   "id": "9d7af7e1",
   "metadata": {
    "scrolled": true
   },
   "outputs": [],
   "source": [
    "for i in range(0,len(G[movePath[-1]])):\n",
    "    print(f\"{i}) {list(G[movePath[-1]])[i]}\")"
   ]
  },
  {
   "cell_type": "code",
   "execution_count": null,
   "id": "304770ca",
   "metadata": {},
   "outputs": [],
   "source": [
    "'A' in ['A']"
   ]
  },
  {
   "cell_type": "code",
   "execution_count": null,
   "id": "cae5decb",
   "metadata": {},
   "outputs": [],
   "source": [
    "askPhase = True\n",
    "numbersList = [x for x in range(0,10)]\n",
    "while askPhase:\n",
    "    for i in range(0,10):\n",
    "        ask = int(input(\"What is your fave 1 digit number?: \"))\n",
    "        while ask in numbersList:\n",
    "            print(ask)\n",
    "            ask = int(input(\"What is your fave 1 digit number?: \"))\n",
    "\n",
    "#         if ask == i:\n",
    "#             print(f\"this is #{i}!\")\n",
    "#             askPhase = False\n",
    "        # i is cycling through so that is why it isn't working!"
   ]
  },
  {
   "cell_type": "markdown",
   "id": "c3ebdfd4",
   "metadata": {},
   "source": [
    "#### numbersList = [x for x in range(0,10)]\n"
   ]
  },
  {
   "cell_type": "code",
   "execution_count": null,
   "id": "0076b915",
   "metadata": {},
   "outputs": [],
   "source": []
  },
  {
   "cell_type": "code",
   "execution_count": null,
   "id": "d8d563da",
   "metadata": {},
   "outputs": [],
   "source": [
    "numbersList"
   ]
  },
  {
   "cell_type": "code",
   "execution_count": null,
   "id": "225e5608",
   "metadata": {},
   "outputs": [],
   "source": [
    "list(G[movePath[-1]])"
   ]
  },
  {
   "cell_type": "code",
   "execution_count": null,
   "id": "0757665a",
   "metadata": {},
   "outputs": [],
   "source": [
    "movePath"
   ]
  },
  {
   "cell_type": "code",
   "execution_count": null,
   "id": "8c684d80",
   "metadata": {},
   "outputs": [],
   "source": [
    "for options in G[movePath[-1]]:\n",
    "    print(options) # it printing this out...\n"
   ]
  },
  {
   "cell_type": "code",
   "execution_count": null,
   "id": "a8470f99",
   "metadata": {},
   "outputs": [],
   "source": [
    "movePath"
   ]
  },
  {
   "cell_type": "code",
   "execution_count": null,
   "id": "d509a9ff",
   "metadata": {},
   "outputs": [],
   "source": [
    "G[movePath[-1]]"
   ]
  },
  {
   "cell_type": "code",
   "execution_count": null,
   "id": "649e11cd",
   "metadata": {},
   "outputs": [],
   "source": [
    "for i in range(0,len(G[movePath[-1]])+1):\n",
    "    print(i)"
   ]
  },
  {
   "cell_type": "code",
   "execution_count": null,
   "id": "bfd149f9",
   "metadata": {},
   "outputs": [],
   "source": [
    "    if len(list(G[movePath[-1]])) == 1:\n",
    "        print(f\"current location: {movePath[-1]}\")\n",
    "        for i in range(len(G[movePath[-1]])):\n",
    "            print(f\"{i}) {list(G[movePath[-1]])[i]}\")\n",
    "        choice = input(\"Where do you want to move?\")\n",
    "        for i in range(len(G[movePath[-1]])):\n",
    "            if choice == i:\n",
    "                movement(movePath[-1], list(G[movePath[-1]])[0])\n",
    "            else:\n",
    "                print(\"not a valid choice, please reselect\")\n"
   ]
  },
  {
   "cell_type": "code",
   "execution_count": null,
   "id": "011c6330",
   "metadata": {},
   "outputs": [],
   "source": [
    "for options in G[movePath[-1]]: # at A23, options shows the one movement option A22\n",
    "    for i in range(len(G[movePath[-1]])):\n",
    "        if len(list(G[movePath[-1]])) == i:\n",
    "            print(f\"current location: {movePath[-1]}\")\n",
    "            print(f\"{i}) {list(G[movePath[-1]])[i]}\")"
   ]
  },
  {
   "cell_type": "code",
   "execution_count": null,
   "id": "e60f3085",
   "metadata": {
    "scrolled": true
   },
   "outputs": [],
   "source": [
    "for i in range(len(G[movePath[-1]])):\n",
    "    print(i)"
   ]
  },
  {
   "cell_type": "code",
   "execution_count": null,
   "id": "d172cfea",
   "metadata": {},
   "outputs": [],
   "source": [
    "for i in range(0,2):\n",
    "    if i == i:\n",
    "        print(\"1\")"
   ]
  },
  {
   "cell_type": "code",
   "execution_count": null,
   "id": "51f800ec",
   "metadata": {},
   "outputs": [],
   "source": [
    "list(G[movePath[-1]])"
   ]
  },
  {
   "cell_type": "code",
   "execution_count": null,
   "id": "2d6495de",
   "metadata": {},
   "outputs": [],
   "source": [
    "len(list(G[movePath[-1]]))"
   ]
  },
  {
   "cell_type": "code",
   "execution_count": null,
   "id": "f9a62601",
   "metadata": {},
   "outputs": [],
   "source": [
    "choice"
   ]
  },
  {
   "cell_type": "code",
   "execution_count": null,
   "id": "09a735f3",
   "metadata": {
    "scrolled": true
   },
   "outputs": [],
   "source": [
    "for options in G[movePath[-1]]:\n",
    "    for n in range(0,len(G[movePath[-1]])):\n",
    "        print(options)\n",
    "        print(n)"
   ]
  },
  {
   "cell_type": "markdown",
   "id": "25796dab",
   "metadata": {},
   "source": [
    "# Where is this"
   ]
  },
  {
   "cell_type": "code",
   "execution_count": 4,
   "id": "1cfa0b83",
   "metadata": {},
   "outputs": [],
   "source": [
    "class Player:\n",
    "    \"\"\"\n",
    "    class Player:\n",
    "    A class to represent a player in the game.\n",
    "\n",
    "    ...\n",
    "\n",
    "    Attributes\n",
    "    ----------\n",
    "    name : str\n",
    "        name of the person.\n",
    "    level : int\n",
    "        level of the player.\n",
    "    hp : int\n",
    "        hp of the player\n",
    "    dmg : int\n",
    "        dmg of the player\n",
    "    critDmg : int\n",
    "        Critical damage modifier of the player.\n",
    "    critChance : int\n",
    "        Critical hit chance of the player.\n",
    "\n",
    "    Methods\n",
    "    -------\n",
    "    describe():\n",
    "        Describes the player's name, level, hp, and damage.\n",
    "    takeDamage():\n",
    "        Triggered when the player takes damage from environmental triggers.  \n",
    "    levelUp():\n",
    "        Increases the player's level along with increasing hp and dmg.\n",
    "    obtainItem(item):\n",
    "        Adds an item to the player's inventory. Must be in a dictionary format \n",
    "        and reference OTHER FUNCTION here for more details.\n",
    "    MORE TO TRULY ADD HERE!!!!\n",
    "\n",
    "\n",
    "    \"\"\"\n",
    "\n",
    "    inventory = {}\n",
    "\n",
    "    following = {}\n",
    "\n",
    "    def __init__(self, name, level, hp, dmg, critDmg=1.25, critChance=100):\n",
    "        self.name = name\n",
    "        self.level = level\n",
    "        self.hp = hp\n",
    "        self.dmg = dmg\n",
    "        self.critDmg = critDmg  # 1 is default\n",
    "        self.critChance = critChance  # 100% default\n",
    "\n",
    "    def describe(self):\n",
    "        print(\n",
    "            f\"{self.name} is a level {self.level} character with {self.hp} that does {self.dmg} damage\")\n",
    "\n",
    "    def takeDamage(self):\n",
    "        currentHP = self.hp\n",
    "        print(f\"{self.name} took xxx damage! Down to xxx hp! Current HP is {currentHP}\")\n",
    "\n",
    "    def levelUp(self):\n",
    "        self.level += 1\n",
    "        self.hp += random.randint(0, 11)\n",
    "        self.dmg += random.randint(0, 5)\n",
    "\n",
    "    def obtainItem(self, item):\n",
    "        self.inventory.update(item)\n",
    "        # for ease of addition\n",
    "\n",
    "    def checkInv(self):\n",
    "        return self.inventory\n",
    "\n",
    "    def equipItem(self):\n",
    "        # iterator through items in inventory...\n",
    "        for items in self.inventory:\n",
    "            if self.level >= self.inventory[item]['level']:\n",
    "                pass\n",
    "        pass"
   ]
  },
  {
   "cell_type": "code",
   "execution_count": null,
   "id": "555687d5",
   "metadata": {},
   "outputs": [],
   "source": []
  },
  {
   "cell_type": "code",
   "execution_count": 5,
   "id": "4155b408",
   "metadata": {},
   "outputs": [],
   "source": [
    "class Mage(Player):    \n",
    "    ableToCast = []\n",
    "    skills = {'fireball': {'level': 1, 'MPCost': 3, \"Damage\": 12},\n",
    "              'gust': {'level': 5, 'MPCost': 6, \"Damage\": 22},\n",
    "              'blizzard': {'level': 10, 'MPCost': 10, \"Damage\": 30}}\n",
    "\n",
    "    \n",
    "    def __init__(self, name, level, hp, mp, dmg, critDmg=1.25, critChance=100):\n",
    "        # not sure if this super init is needed...\n",
    "        super().__init__(name, level, hp, dmg, critDmg=1.25, critChance=100)\n",
    "        self.mp = mp\n",
    "\n",
    "    def magicAttack(self, player, enemy):\n",
    "        print(f\"{self.name} did \")\n",
    "\n",
    "    def checkMP(self):\n",
    "        return self.mp\n",
    "\n",
    "    def describe(self):\n",
    "        print(f\"{self.name} is a level {self.level} character with {self.hp} hp and {self.mp} mp that does {self.dmg} damage\")\n",
    "\n",
    "    def levelUp(self):\n",
    "        self.level += 1\n",
    "        self.hp += random.randint(0, 6)\n",
    "        self.dmg += random.randint(0, 5)\n",
    "        self.mp += random.randint(0, 6)\n",
    "\n",
    "#     def chooseSpell(self):\n",
    "#         if isinstance(self, Mage):\n",
    "#             checkSpellLevels(self)\n",
    "#             print(\"You a mage boo\")\n",
    "#             # Check level for spell availability\n",
    "#             level = self.level\n",
    "#             for ability in self.skills:\n",
    "#                 levelReq = self.skills[ability]['level']\n",
    "# #                 print(f\"{list(self.skills)[ability]} has a levelReq of {levelReq}\")\n",
    "#     #             if mage.level >= levelReq:\n",
    "#     #                 print(\"okay to cast!\")\n",
    "#         else:\n",
    "#             print(\"You don't have spells!\")\n",
    "\n",
    "    def checkSpellLevels(self):\n",
    "        print(\"You a mage boo\")\n",
    "        skills = self.skills\n",
    "        for ability in self.skills:\n",
    "            print(f\"{ability} has a level requirement of {skills[ability]['level']} \")\n",
    "            levelReq = skills[ability]['level']\n",
    "            if self.level >= levelReq:\n",
    "                print(f\"okay to cast {ability}!\")\n",
    "                if f\"{ability}\" not in self.ableToCast:\n",
    "                    self.ableToCast.append(ability)\n",
    "        return self.ableToCast\n",
    "        \n",
    "    def chooseSpell(self, spell):\n",
    "        if spell in self.ableToCast:\n",
    "            print(\"Can cast!\")\n",
    "            return True\n",
    "\n",
    "    # include mana in their stats!\n",
    "    # Include spells at certain levels?\n",
    "        # like fireball at level 1, gust at level 5, blizzard at level 10?\n",
    "        # Blizzard something to make enemy have a chance to get frozen and lose a turn?\n",
    "\n"
   ]
  },
  {
   "cell_type": "code",
   "execution_count": 6,
   "id": "228293ad",
   "metadata": {},
   "outputs": [],
   "source": [
    "Kollin = Player(\"Kollin\", 1, 100, 50, critDmg=1.25)\n",
    "Kennedy = Mage(\"Kennedy\", 1, 80, 15, 50, critDmg=1.25)"
   ]
  },
  {
   "cell_type": "code",
   "execution_count": 7,
   "id": "5c95b062",
   "metadata": {},
   "outputs": [
    {
     "data": {
      "text/plain": [
       "<__main__.Player at 0x107692df0>"
      ]
     },
     "execution_count": 7,
     "metadata": {},
     "output_type": "execute_result"
    }
   ],
   "source": [
    "Kollin"
   ]
  },
  {
   "cell_type": "code",
   "execution_count": 8,
   "id": "64908919",
   "metadata": {
    "scrolled": true
   },
   "outputs": [
    {
     "name": "stdout",
     "output_type": "stream",
     "text": [
      "You a mage boo\n",
      "fireball has a level requirement of 1 \n",
      "okay to cast fireball!\n",
      "gust has a level requirement of 5 \n",
      "blizzard has a level requirement of 10 \n"
     ]
    },
    {
     "data": {
      "text/plain": [
       "['fireball']"
      ]
     },
     "execution_count": 8,
     "metadata": {},
     "output_type": "execute_result"
    }
   ],
   "source": [
    "Kennedy.checkSpellLevels()"
   ]
  },
  {
   "cell_type": "code",
   "execution_count": 9,
   "id": "58082bf4",
   "metadata": {},
   "outputs": [
    {
     "data": {
      "text/plain": [
       "['fireball']"
      ]
     },
     "execution_count": 9,
     "metadata": {},
     "output_type": "execute_result"
    }
   ],
   "source": [
    "Kennedy.ableToCast"
   ]
  },
  {
   "cell_type": "code",
   "execution_count": 10,
   "id": "17779d1a",
   "metadata": {},
   "outputs": [
    {
     "name": "stdout",
     "output_type": "stream",
     "text": [
      "Can cast!\n"
     ]
    },
    {
     "data": {
      "text/plain": [
       "True"
      ]
     },
     "execution_count": 10,
     "metadata": {},
     "output_type": "execute_result"
    }
   ],
   "source": [
    "Kennedy.chooseSpell('fireball')"
   ]
  },
  {
   "cell_type": "code",
   "execution_count": 11,
   "id": "53e426a0",
   "metadata": {},
   "outputs": [
    {
     "ename": "NameError",
     "evalue": "name 'random' is not defined",
     "output_type": "error",
     "traceback": [
      "\u001b[0;31m---------------------------------------------------------------------------\u001b[0m",
      "\u001b[0;31mNameError\u001b[0m                                 Traceback (most recent call last)",
      "\u001b[0;32m/var/folders/w6/b4rt07vs4d3fp4pw6gqqn3ph0000gn/T/ipykernel_51250/365584739.py\u001b[0m in \u001b[0;36m<module>\u001b[0;34m\u001b[0m\n\u001b[1;32m      1\u001b[0m \u001b[0;32mfor\u001b[0m \u001b[0mi\u001b[0m \u001b[0;32min\u001b[0m \u001b[0mrange\u001b[0m\u001b[0;34m(\u001b[0m\u001b[0;36m0\u001b[0m\u001b[0;34m,\u001b[0m\u001b[0;36m12\u001b[0m\u001b[0;34m)\u001b[0m\u001b[0;34m:\u001b[0m\u001b[0;34m\u001b[0m\u001b[0;34m\u001b[0m\u001b[0m\n\u001b[0;32m----> 2\u001b[0;31m     \u001b[0mKennedy\u001b[0m\u001b[0;34m.\u001b[0m\u001b[0mlevelUp\u001b[0m\u001b[0;34m(\u001b[0m\u001b[0;34m)\u001b[0m\u001b[0;34m\u001b[0m\u001b[0;34m\u001b[0m\u001b[0m\n\u001b[0m",
      "\u001b[0;32m/var/folders/w6/b4rt07vs4d3fp4pw6gqqn3ph0000gn/T/ipykernel_51250/1211874574.py\u001b[0m in \u001b[0;36mlevelUp\u001b[0;34m(self)\u001b[0m\n\u001b[1;32m     22\u001b[0m     \u001b[0;32mdef\u001b[0m \u001b[0mlevelUp\u001b[0m\u001b[0;34m(\u001b[0m\u001b[0mself\u001b[0m\u001b[0;34m)\u001b[0m\u001b[0;34m:\u001b[0m\u001b[0;34m\u001b[0m\u001b[0;34m\u001b[0m\u001b[0m\n\u001b[1;32m     23\u001b[0m         \u001b[0mself\u001b[0m\u001b[0;34m.\u001b[0m\u001b[0mlevel\u001b[0m \u001b[0;34m+=\u001b[0m \u001b[0;36m1\u001b[0m\u001b[0;34m\u001b[0m\u001b[0;34m\u001b[0m\u001b[0m\n\u001b[0;32m---> 24\u001b[0;31m         \u001b[0mself\u001b[0m\u001b[0;34m.\u001b[0m\u001b[0mhp\u001b[0m \u001b[0;34m+=\u001b[0m \u001b[0mrandom\u001b[0m\u001b[0;34m.\u001b[0m\u001b[0mrandint\u001b[0m\u001b[0;34m(\u001b[0m\u001b[0;36m0\u001b[0m\u001b[0;34m,\u001b[0m \u001b[0;36m6\u001b[0m\u001b[0;34m)\u001b[0m\u001b[0;34m\u001b[0m\u001b[0;34m\u001b[0m\u001b[0m\n\u001b[0m\u001b[1;32m     25\u001b[0m         \u001b[0mself\u001b[0m\u001b[0;34m.\u001b[0m\u001b[0mdmg\u001b[0m \u001b[0;34m+=\u001b[0m \u001b[0mrandom\u001b[0m\u001b[0;34m.\u001b[0m\u001b[0mrandint\u001b[0m\u001b[0;34m(\u001b[0m\u001b[0;36m0\u001b[0m\u001b[0;34m,\u001b[0m \u001b[0;36m5\u001b[0m\u001b[0;34m)\u001b[0m\u001b[0;34m\u001b[0m\u001b[0;34m\u001b[0m\u001b[0m\n\u001b[1;32m     26\u001b[0m         \u001b[0mself\u001b[0m\u001b[0;34m.\u001b[0m\u001b[0mmp\u001b[0m \u001b[0;34m+=\u001b[0m \u001b[0mrandom\u001b[0m\u001b[0;34m.\u001b[0m\u001b[0mrandint\u001b[0m\u001b[0;34m(\u001b[0m\u001b[0;36m0\u001b[0m\u001b[0;34m,\u001b[0m \u001b[0;36m6\u001b[0m\u001b[0;34m)\u001b[0m\u001b[0;34m\u001b[0m\u001b[0;34m\u001b[0m\u001b[0m\n",
      "\u001b[0;31mNameError\u001b[0m: name 'random' is not defined"
     ]
    }
   ],
   "source": [
    "for i in range(0,12):\n",
    "    Kennedy.levelUp()"
   ]
  },
  {
   "cell_type": "code",
   "execution_count": 12,
   "id": "d48c8dc9",
   "metadata": {},
   "outputs": [
    {
     "data": {
      "text/plain": [
       "2"
      ]
     },
     "execution_count": 12,
     "metadata": {},
     "output_type": "execute_result"
    }
   ],
   "source": [
    "Kennedy.level"
   ]
  },
  {
   "cell_type": "code",
   "execution_count": 13,
   "id": "42ecc94b",
   "metadata": {},
   "outputs": [
    {
     "data": {
      "text/plain": [
       "{'fireball': {'level': 1, 'MPCost': 3, 'Damage': 12},\n",
       " 'gust': {'level': 5, 'MPCost': 6, 'Damage': 22},\n",
       " 'blizzard': {'level': 10, 'MPCost': 10, 'Damage': 30}}"
      ]
     },
     "execution_count": 13,
     "metadata": {},
     "output_type": "execute_result"
    }
   ],
   "source": [
    "Kennedy.skills"
   ]
  },
  {
   "cell_type": "code",
   "execution_count": 14,
   "id": "8363fc7e",
   "metadata": {},
   "outputs": [
    {
     "name": "stdout",
     "output_type": "stream",
     "text": [
      "fireball has a level requirement of 1 \n",
      "okay to cast fireball!\n"
     ]
    },
    {
     "ename": "NameError",
     "evalue": "name 'ableToCast' is not defined",
     "output_type": "error",
     "traceback": [
      "\u001b[0;31m---------------------------------------------------------------------------\u001b[0m",
      "\u001b[0;31mNameError\u001b[0m                                 Traceback (most recent call last)",
      "\u001b[0;32m/var/folders/w6/b4rt07vs4d3fp4pw6gqqn3ph0000gn/T/ipykernel_51250/3375018465.py\u001b[0m in \u001b[0;36m<module>\u001b[0;34m\u001b[0m\n\u001b[1;32m      5\u001b[0m     \u001b[0;32mif\u001b[0m \u001b[0mKennedy\u001b[0m\u001b[0;34m.\u001b[0m\u001b[0mlevel\u001b[0m \u001b[0;34m>=\u001b[0m \u001b[0mlevelReq\u001b[0m\u001b[0;34m:\u001b[0m\u001b[0;34m\u001b[0m\u001b[0;34m\u001b[0m\u001b[0m\n\u001b[1;32m      6\u001b[0m         \u001b[0mprint\u001b[0m\u001b[0;34m(\u001b[0m\u001b[0;34mf\"okay to cast {ability}!\"\u001b[0m\u001b[0;34m)\u001b[0m\u001b[0;34m\u001b[0m\u001b[0;34m\u001b[0m\u001b[0m\n\u001b[0;32m----> 7\u001b[0;31m         \u001b[0;32mif\u001b[0m \u001b[0;34mf\"{ability}\"\u001b[0m \u001b[0;32mnot\u001b[0m \u001b[0;32min\u001b[0m \u001b[0mableToCast\u001b[0m\u001b[0;34m:\u001b[0m\u001b[0;34m\u001b[0m\u001b[0;34m\u001b[0m\u001b[0m\n\u001b[0m\u001b[1;32m      8\u001b[0m             \u001b[0mableToCast\u001b[0m\u001b[0;34m.\u001b[0m\u001b[0mappend\u001b[0m\u001b[0;34m(\u001b[0m\u001b[0mability\u001b[0m\u001b[0;34m)\u001b[0m\u001b[0;34m\u001b[0m\u001b[0;34m\u001b[0m\u001b[0m\n",
      "\u001b[0;31mNameError\u001b[0m: name 'ableToCast' is not defined"
     ]
    }
   ],
   "source": [
    "skills = Kennedy.skills\n",
    "for ability in Kennedy.skills:\n",
    "    print(f\"{ability} has a level requirement of {skills[ability]['level']} \")\n",
    "    levelReq = skills[ability]['level']\n",
    "    if Kennedy.level >= levelReq:\n",
    "        print(f\"okay to cast {ability}!\")\n",
    "        if f\"{ability}\" not in ableToCast:\n",
    "            ableToCast.append(ability)"
   ]
  },
  {
   "cell_type": "code",
   "execution_count": null,
   "id": "3b3ad955",
   "metadata": {},
   "outputs": [],
   "source": [
    "ableToCast"
   ]
  },
  {
   "cell_type": "code",
   "execution_count": 15,
   "id": "878b5841",
   "metadata": {},
   "outputs": [
    {
     "name": "stdout",
     "output_type": "stream",
     "text": [
      "True\n"
     ]
    }
   ],
   "source": [
    "weight = isinstance(Kennedy, Player)\n",
    "print(weight)"
   ]
  },
  {
   "cell_type": "code",
   "execution_count": 16,
   "id": "0d544a44",
   "metadata": {},
   "outputs": [
    {
     "data": {
      "text/plain": [
       "True"
      ]
     },
     "execution_count": 16,
     "metadata": {},
     "output_type": "execute_result"
    }
   ],
   "source": [
    "isinstance(Kollin, Player)"
   ]
  },
  {
   "cell_type": "code",
   "execution_count": 17,
   "id": "9fe78adf",
   "metadata": {},
   "outputs": [],
   "source": [
    "def dealDamage(player, enemy):\n",
    "    \"\"\"\n",
    "    Functions takes an instance of a Player and Enemy and deals with the logic behind crits or weak hits.\n",
    "    \"\"\"\n",
    "    # Determine hp and figure out damage dealt!\n",
    "\n",
    "    # roll() # I don't think this is needed...\n",
    "\n",
    "    # Roll for Crit Hit Chance\n",
    "    if roll() > 80:\n",
    "        print(\"Critical Hit!\")\n",
    "        enemy.hp = enemy.hp - player.dmg*player.critDmg\n",
    "        # not sure if this works...\n",
    "        print(\n",
    "            f\"{player.name} hit {enemy.name} for {player.dmg*player.critDmg}. Health remaining: {enemy.hp}\")\n",
    "    elif roll() < 80 and roll() > 20:\n",
    "        enemy.hp = enemy.hp - player.dmg\n",
    "        print(\n",
    "            f\"{player.name} hit {enemy.name} for {player.dmg}. Health remaining: {enemy.hp}\")\n",
    "    else:\n",
    "        print(\"Swing a lil harder!\")\n",
    "        enemy.hp = enemy.hp - player.dmg * 0.75\n",
    "        print(\n",
    "            f\"{player.name} hit {enemy.name} for {player.dmg*0.75}. Health remaining: {enemy.hp}\")"
   ]
  },
  {
   "cell_type": "code",
   "execution_count": 18,
   "id": "c14b32dc",
   "metadata": {},
   "outputs": [],
   "source": [
    "def dealMagicDamage(player, enemy):\n",
    "    \"\"\"\n",
    "    Takes an instance of Player(Mage subclass) and Enemy and deals with the combat logic for the Mage class.\n",
    "    \"\"\"\n",
    "    # Determine hp and figure out damage dealt!\n",
    "    if isinstance(player, Mage):\n",
    "        mp = player.mp\n",
    "        player.checkSpellLevels()\n",
    "        for idx, spell in enumerate(player.ableToCast):\n",
    "            if player.mp >= player.skills[spell]['MPCost']:\n",
    "                print(f\"{idx}) {spell} MPCost: {player.skills[spell]['MPCost']}\")\n",
    "        print(\"3) attack\")\n",
    "        spell = input(\"Which spell would you like to cast?\")\n",
    "        if spell == \"fireball\" or spell == str(0):\n",
    "            if player.mp >= player.skills['fireball']['MPCost']:\n",
    "            # Roll for Crit Hit Chance\n",
    "                if roll() > 80:\n",
    "                    print(\"Critical Hit!\")\n",
    "                    enemy.hp = enemy.hp - player.skills['fireball']['Damage']*player.critDmg\n",
    "                    player.mp -= player.skills['fireball']['MPCost']\n",
    "                    # not sure if this works...\n",
    "                    print(f\"{player.name} hit {enemy.name} for {player.skills['fireball']['Damage']}. Health remaining: {enemy.hp}\")\n",
    "                elif roll() < 80 and roll() > 20:\n",
    "                    enemy.hp = enemy.hp - player.skills['fireball']['Damage']\n",
    "                    player.mp -= player.skills['fireball']['MPCost']\n",
    "                    print(f\"{player.name} hit {enemy.name} for {player.skills['fireball']['Damage']}. Health remaining: {enemy.hp}\")\n",
    "                else:\n",
    "                    print(\"Swing a lil harder!\")\n",
    "                    enemy.hp = enemy.hp - player.skills['fireball']['Damage'] * 0.75\n",
    "                    player.mp -= player.skills['fireball']['MPCost']\n",
    "                    print(f\"{player.name} hit {enemy.name} for {player.skills['fireball']['Damage']}. Health remaining: {enemy.hp}\")\n",
    "        \n",
    "        elif spell == 'gust' or spell == str(1):\n",
    "            if player.mp >= player.skills['gust']['MPCost']:\n",
    "                # Roll for Crit Hit Chance\n",
    "                if roll() > 80:\n",
    "                    print(\"Critical Hit!\")\n",
    "                    enemy.hp = enemy.hp - player.skills['gust']['Damage']*player.critDmg\n",
    "                    player.mp -= player.skills['gust']['MPCost']\n",
    "                    # not sure if this works...\n",
    "                    print(f\"{player.name} hit {enemy.name} for {player.skills['gust']['Damage']}. Health remaining: {enemy.hp}\")\n",
    "                elif roll() < 80 and roll() > 20:\n",
    "                    enemy.hp = enemy.hp - player.skills['gust']['Damage']\n",
    "                    player.mp -= player.skills['gust']['MPCost']\n",
    "                    print(f\"{player.name} hit {enemy.name} for {player.skills['gust']['Damage']}. Health remaining: {enemy.hp}\")\n",
    "                else:\n",
    "                    print(\"Swing a lil harder!\")\n",
    "                    enemy.hp = enemy.hp - player.skills['gust']['Damage'] * 0.75\n",
    "                    player.mp -= player.skills['gust']['MPCost']\n",
    "                    print(f\"{player.name} hit {enemy.name} for {player.skills['gust']['Damage']}. Health remaining: {enemy.hp}\")\n",
    "        \n",
    "        elif spell == 'blizzard' or spell == str(2):\n",
    "            if player.mp >= player.skills['blizzard']['MPCost']:\n",
    "                # Roll for Crit Hit Chance\n",
    "                if roll() > 80:\n",
    "                    print(\"Critical Hit!\")\n",
    "                    enemy.hp = enemy.hp - player.skills['blizzard']['Damage']*player.critDmg\n",
    "                    player.mp -= player.skills['blizzard']['MPCost']\n",
    "                    # not sure if this works...\n",
    "                    print(f\"{player.name} hit {enemy.name} for {player.skills['blizzard']['Damage']*player.critDmg}. Health remaining: {enemy.hp}\")\n",
    "                elif roll() < 80 and roll() > 20:\n",
    "                    enemy.hp = enemy.hp - player.skills['blizzard']['Damage']\n",
    "                    player.mp -= player.skills['blizzard']['MPCost']\n",
    "                    print(f\"{player.name} hit {enemy.name} for {player.skills['blizzard']['Damage']}. Health remaining: {enemy.hp}\")\n",
    "                else:\n",
    "                    print(\"Swing a lil harder!\")\n",
    "                    enemy.hp = enemy.hp - player.skills['blizzard']['Damage'] * 0.75\n",
    "                    player.mp -= player.skills['blizzard']['MPCost']\n",
    "                    print(f\"{player.name} hit {enemy.name} for {player.skills['blizzard']['Damage']*0.75}. Health remaining: {enemy.hp}\")\n",
    "        if spell == 'attack' or spell == str(3):\n",
    "            if roll() > 80:\n",
    "                print(\"Critical Hit!\")\n",
    "                enemy.hp = enemy.hp - player.dmg*player.critDmg\n",
    "                # not sure if this works...\n",
    "                print(\n",
    "                    f\"{player.name} hit {enemy.name} for {player.dmg*player.critDmg}. Health remaining: {enemy.hp}\")\n",
    "            elif roll() < 80 and roll() > 20:\n",
    "                enemy.hp = enemy.hp - player.dmg\n",
    "                print(\n",
    "                    f\"{player.name} hit {enemy.name} for {player.dmg}. Health remaining: {enemy.hp}\")\n",
    "            else:\n",
    "                print(\"Swing a lil harder!\")\n",
    "                enemy.hp = enemy.hp - player.dmg * 0.75\n",
    "                print(\n",
    "                    f\"{player.name} hit {enemy.name} for {player.dmg*0.75}. Health remaining: {enemy.hp}\")\n",
    "    else:\n",
    "        print(\"Player is not a mage!\")"
   ]
  },
  {
   "cell_type": "code",
   "execution_count": 19,
   "id": "9c8ede34",
   "metadata": {},
   "outputs": [
    {
     "data": {
      "text/plain": [
       "10"
      ]
     },
     "execution_count": 19,
     "metadata": {},
     "output_type": "execute_result"
    }
   ],
   "source": [
    "Kennedy.skills['blizzard']['MPCost']"
   ]
  },
  {
   "cell_type": "markdown",
   "id": "f0a3fc70",
   "metadata": {},
   "source": [
    "# Lets add mage to battling!"
   ]
  },
  {
   "cell_type": "code",
   "execution_count": 20,
   "id": "fc1910d6",
   "metadata": {},
   "outputs": [],
   "source": [
    "def battling(player, enemy):\n",
    "    \"\"\"\n",
    "    Takes two instances (typically an instance of Player and Enemy) and carries out the logic of the combat phase\n",
    "    \"\"\"\n",
    "    # First calculate difference in damage from enemy levels\n",
    "    # print(f\"The turn order is [{turn_order[0].name}, {turn_order[1].name}]\")\n",
    "    # print(f\"[{turn_order[0].name}, {turn_order[1].name}]\")\n",
    "    \n",
    "    # if Mage class\n",
    "    if isinstance(player, Mage):\n",
    "        # You go first/next\n",
    "        if turn_order[0] == player:\n",
    "            action = input(\"What action would you like to do? \\n 0)'attack' \\n 1)'magic' \\n \")\n",
    "            if action == 'attack' or action == str(0):\n",
    "                dealDamage(player, enemy)\n",
    "                print(enemy.hp)\n",
    "                turn_order.reverse()\n",
    "                print(f\"The turn order is [{turn_order[0].name}, {turn_order[1].name}]\")\n",
    "            elif action == 'magic' or action == str(1):\n",
    "                dealMagicDamage(player, enemy)\n",
    "                print(enemy.hp)\n",
    "                print(f\"remaining mp {player.mp}\")\n",
    "                turn_order.reverse()\n",
    "                print(f\"The turn order is [{turn_order[0].name}, {turn_order[1].name}]\")\n",
    "        # Enemy goes first/next\n",
    "        elif turn_order[0] == enemy:\n",
    "            enemyDmg(enemy, player)\n",
    "            turn_order.reverse()\n",
    "            print(\n",
    "                f\"The turn order is [{turn_order[0].name}, {turn_order[1].name}]\")\n",
    "    # if Player base class\n",
    "    else:\n",
    "        if turn_order[0] == player:\n",
    "            action = input(\"What action would you like to do? \\n 0)'attack' \\n \")\n",
    "            if action == \"attack\":\n",
    "                dealDamage(player, enemy)\n",
    "                print(enemy.hp)\n",
    "                turn_order.reverse()\n",
    "                print(f\"The turn order is [{turn_order[0].name}, {turn_order[1].name}]\")\n",
    "\n",
    "            elif turn_order[0] == enemy:\n",
    "                enemyDmg(enemy, player)\n",
    "                turn_order.reverse()\n",
    "                print(f\"The turn order is [{turn_order[0].name}, {turn_order[1].name}]\")\n"
   ]
  },
  {
   "cell_type": "code",
   "execution_count": 21,
   "id": "1327b226",
   "metadata": {
    "scrolled": true
   },
   "outputs": [
    {
     "ename": "NameError",
     "evalue": "name 'start_battle' is not defined",
     "output_type": "error",
     "traceback": [
      "\u001b[0;31m---------------------------------------------------------------------------\u001b[0m",
      "\u001b[0;31mNameError\u001b[0m                                 Traceback (most recent call last)",
      "\u001b[0;32m/var/folders/w6/b4rt07vs4d3fp4pw6gqqn3ph0000gn/T/ipykernel_51250/1255197720.py\u001b[0m in \u001b[0;36m<module>\u001b[0;34m\u001b[0m\n\u001b[0;32m----> 1\u001b[0;31m \u001b[0mstart_battle\u001b[0m\u001b[0;34m(\u001b[0m\u001b[0mKennedy\u001b[0m\u001b[0;34m,\u001b[0m \u001b[0mAlex\u001b[0m\u001b[0;34m)\u001b[0m\u001b[0;34m\u001b[0m\u001b[0;34m\u001b[0m\u001b[0m\n\u001b[0m",
      "\u001b[0;31mNameError\u001b[0m: name 'start_battle' is not defined"
     ]
    }
   ],
   "source": [
    "start_battle(Kennedy, Alex)"
   ]
  },
  {
   "cell_type": "code",
   "execution_count": null,
   "id": "1030e814",
   "metadata": {},
   "outputs": [],
   "source": []
  },
  {
   "cell_type": "code",
   "execution_count": null,
   "id": "b5dd9376",
   "metadata": {},
   "outputs": [],
   "source": [
    "isinstance(Kennedy, Mage)"
   ]
  },
  {
   "cell_type": "code",
   "execution_count": null,
   "id": "73dbfd1c",
   "metadata": {},
   "outputs": [],
   "source": [
    "Kennedy.hp = 250"
   ]
  },
  {
   "cell_type": "code",
   "execution_count": null,
   "id": "894433ba",
   "metadata": {},
   "outputs": [],
   "source": [
    "Kennedy.dmg = 15"
   ]
  },
  {
   "cell_type": "code",
   "execution_count": null,
   "id": "8070a25d",
   "metadata": {},
   "outputs": [],
   "source": [
    "Kennedy.mp = 7"
   ]
  },
  {
   "cell_type": "code",
   "execution_count": null,
   "id": "affc8984",
   "metadata": {},
   "outputs": [],
   "source": [
    "Alex = Enemy(\"Alex\", 1, 150, 7)"
   ]
  },
  {
   "cell_type": "code",
   "execution_count": null,
   "id": "6f4c57c7",
   "metadata": {},
   "outputs": [],
   "source": [
    "if Kennedy.mp >= Kennedy.skills['blizzard']['MPCost']:\n",
    "    print(\"True\")\n",
    "else:\n",
    "    print(\"No good\")"
   ]
  },
  {
   "cell_type": "code",
   "execution_count": null,
   "id": "9de2ee5b",
   "metadata": {},
   "outputs": [],
   "source": [
    "Alex.hp = Alex.hp - Kennedy.skills['gust']['Damage']*Kennedy.critDmg"
   ]
  },
  {
   "cell_type": "code",
   "execution_count": null,
   "id": "c3498e06",
   "metadata": {},
   "outputs": [],
   "source": [
    "Kennedy.hp"
   ]
  },
  {
   "cell_type": "code",
   "execution_count": null,
   "id": "0fcd82d5",
   "metadata": {},
   "outputs": [],
   "source": [
    "Kennedy.skills"
   ]
  },
  {
   "cell_type": "code",
   "execution_count": null,
   "id": "4922883a",
   "metadata": {},
   "outputs": [],
   "source": [
    "Alex.hp"
   ]
  },
  {
   "cell_type": "code",
   "execution_count": null,
   "id": "17c2de2b",
   "metadata": {},
   "outputs": [],
   "source": [
    "Alex = Enemy(\"Alex\", 1, 150, 7)"
   ]
  },
  {
   "cell_type": "code",
   "execution_count": null,
   "id": "26a510eb",
   "metadata": {},
   "outputs": [],
   "source": [
    "Alex.hp"
   ]
  },
  {
   "cell_type": "code",
   "execution_count": null,
   "id": "c5930c0a",
   "metadata": {},
   "outputs": [],
   "source": [
    "Kennedy.skills"
   ]
  },
  {
   "cell_type": "markdown",
   "id": "7b06f4e6",
   "metadata": {},
   "source": [
    "# End Battling"
   ]
  },
  {
   "cell_type": "markdown",
   "id": "93429e88",
   "metadata": {},
   "source": [
    "# Save Methods"
   ]
  },
  {
   "cell_type": "markdown",
   "id": "1fb9212d",
   "metadata": {},
   "source": [
    "## Pickle it! Pickle the data structure!"
   ]
  },
  {
   "cell_type": "markdown",
   "id": "012c81b5",
   "metadata": {},
   "source": [
    "### Have a load in that'll print off some things! Like position, level, f\"Welcome back {player}!\" kinda statement..."
   ]
  },
  {
   "cell_type": "markdown",
   "id": "3aa75661",
   "metadata": {},
   "source": [
    "# End Save Methods"
   ]
  },
  {
   "cell_type": "markdown",
   "id": "3c473798",
   "metadata": {},
   "source": [
    "### Start Game"
   ]
  },
  {
   "cell_type": "code",
   "execution_count": null,
   "id": "b653c5e3",
   "metadata": {},
   "outputs": [],
   "source": [
    "def startGame():\n",
    "#     global myCharacter\n",
    "    classChoices = [\"Player\", \"Mage\"]\n",
    "    playerClass = input('Are you going to be a Player or a Mage?: ')\n",
    "    while playerClass not in classChoices:\n",
    "        print(\"Please reselect your class!\")\n",
    "        playerClass = input('Are you going to be a Player or a Mage?: ')\n",
    "    playerName = input(\"What is your character's name?: \")\n",
    "    print(f\"{playerName} is a {playerClass}\")\n",
    "#     exec(f\"{playerName}\" = f\"{playerClass}({playerName}, 1, 100, 50, critDmg=100)\")\n",
    "#     exec(\"myCharacter = {0}('{1}', 1, 100, 50, critDmg=100)\".format(playerClass, playerName))\n",
    "    exec(f\"myCharacter = {playerClass}('{playerName}', 1, 100, 50, critDmg=100)\")\n",
    "    print(f\"{playerName}\")\n",
    "    print(type(myCharacter))\n",
    "    return myCharacter\n",
    "# exec(f\"{playerName} = {playerClass}('{playerName}', 1, 100, 50, critDmg=100)\")"
   ]
  },
  {
   "cell_type": "code",
   "execution_count": null,
   "id": "f7d8b8d5",
   "metadata": {},
   "outputs": [],
   "source": [
    "# txt1 = \"My name is {fname}, I'm {age}\".format(fname = \"John\", age = 36)"
   ]
  },
  {
   "cell_type": "code",
   "execution_count": null,
   "id": "5fe51f32",
   "metadata": {},
   "outputs": [],
   "source": [
    "classChoices = [\"Player\", \"Mage\"]\n",
    "playerClass = input('Are you going to be a Player or a Mage?: ')\n",
    "while playerClass not in classChoices:\n",
    "    print(\"Please reselect your class!\")\n",
    "    playerClass = input('Are you going to be a Player or a Mage?: ')\n",
    "playerName = input(\"What is your character's name?: \")\n",
    "print(f\"{playerName} is a {playerClass}\")\n",
    "if playerClass == \"Player\":\n",
    "    exec(f\"{playerName} = {playerClass}('{playerName}', 1, 100, 50, critDmg=125)\")\n",
    "elif playerClass == \"Mage\":\n",
    "    exec(f\"{playerName} = {playerClass}('{playerName}', 1, 100, 15, 50, critDmg=125)\")"
   ]
  },
  {
   "cell_type": "code",
   "execution_count": null,
   "id": "b678cb1f",
   "metadata": {},
   "outputs": [],
   "source": [
    "# def startGame():\n",
    "#     classChoices = [\"Player\", \"Mage\"]\n",
    "#     playerClass = input('Are you going to be a Player or a Mage?: ')\n",
    "#     while playerClass not in classChoices:\n",
    "#         print(\"Please reselect your class!\")\n",
    "#         playerClass = input('Are you going to be a Player or a Mage?: ')\n",
    "#     playerName = input(\"What is your character's name?: \")\n",
    "#     print(f\"{playerName} is a {playerClass}\")\n",
    "#     if playerClass == \"Player\":\n",
    "#         exec(f\"myCharacter = {playerClass}('{playerName}', 1, 100, 50, critDmg=125)\")\n",
    "#     elif playerClass == \"Mage\":\n",
    "#         exec(f\"myCharacter = {playerClass}('{playerName}', 1, 100, 15, 50, critDmg=125)\")\n",
    "#     return myCharacter"
   ]
  },
  {
   "cell_type": "code",
   "execution_count": null,
   "id": "ee2aa065",
   "metadata": {},
   "outputs": [],
   "source": [
    "classChoices = [\"Player\", \"Mage\"]\n",
    "playerClass = input('Are you going to be a Player or a Mage?: ')\n",
    "while playerClass not in classChoices:\n",
    "    print(\"Please reselect your class!\")\n",
    "    playerClass = input('Are you going to be a Player or a Mage?: ')\n",
    "playerName = input(\"What is your character's name?: \")\n",
    "print(f\"{playerName} is a {playerClass}\")\n",
    "if playerClass == \"Player\":\n",
    "    exec(f\"myCharacter = {playerClass}('{playerName}', 1, 100, 50, critDmg=125)\")\n",
    "elif playerClass == \"Mage\":\n",
    "    exec(f\"myCharacter = {playerClass}('{playerName}', 1, 100, 15, 50, critDmg=125)\")"
   ]
  },
  {
   "cell_type": "code",
   "execution_count": null,
   "id": "dab05207",
   "metadata": {},
   "outputs": [],
   "source": [
    "myCharacter.name"
   ]
  },
  {
   "cell_type": "code",
   "execution_count": null,
   "id": "750c4730",
   "metadata": {
    "scrolled": false
   },
   "outputs": [],
   "source": [
    "startGame()"
   ]
  },
  {
   "cell_type": "code",
   "execution_count": null,
   "id": "fadebdb2",
   "metadata": {},
   "outputs": [],
   "source": [
    "IpoLa"
   ]
  },
  {
   "cell_type": "code",
   "execution_count": null,
   "id": "90c4e841",
   "metadata": {},
   "outputs": [],
   "source": [
    "myCharacter = ''"
   ]
  },
  {
   "cell_type": "code",
   "execution_count": null,
   "id": "6f55de4b",
   "metadata": {},
   "outputs": [],
   "source": [
    "myCharacter.name"
   ]
  },
  {
   "cell_type": "code",
   "execution_count": null,
   "id": "2a3f4395",
   "metadata": {},
   "outputs": [],
   "source": [
    "print(f\"global {playerName}\")"
   ]
  },
  {
   "cell_type": "code",
   "execution_count": null,
   "id": "93f7412c",
   "metadata": {},
   "outputs": [],
   "source": [
    "Yurga"
   ]
  },
  {
   "cell_type": "code",
   "execution_count": null,
   "id": "2fe21f90",
   "metadata": {
    "scrolled": true
   },
   "outputs": [],
   "source": [
    "Yurga"
   ]
  },
  {
   "cell_type": "code",
   "execution_count": null,
   "id": "0b72e853",
   "metadata": {},
   "outputs": [],
   "source": [
    "playerName = input(\"What is your character's name?: \")\n",
    "playerClass = input('Are you going to be a Player or a Mage?: ')"
   ]
  },
  {
   "cell_type": "code",
   "execution_count": null,
   "id": "87c4ee1a",
   "metadata": {},
   "outputs": [],
   "source": [
    "print(f\"{playerName} is a {playerClass}\")"
   ]
  },
  {
   "cell_type": "code",
   "execution_count": null,
   "id": "db00d384",
   "metadata": {},
   "outputs": [],
   "source": [
    "exec(f\"myCharacter = {playerClass}('{playerName}', 1, 100, 50, critDmg=100)\")"
   ]
  },
  {
   "cell_type": "code",
   "execution_count": null,
   "id": "33ee508b",
   "metadata": {},
   "outputs": [],
   "source": [
    "myCharacter.name"
   ]
  },
  {
   "cell_type": "code",
   "execution_count": null,
   "id": "a103b70d",
   "metadata": {},
   "outputs": [],
   "source": [
    "exec(f\"{playerName} = {playerClass}({playerName}, 1, 100, 50, critDmg=100)\")"
   ]
  },
  {
   "cell_type": "code",
   "execution_count": null,
   "id": "2fc29200",
   "metadata": {},
   "outputs": [],
   "source": [
    "print(f\"{playerName} = {playerClass}({playerName}, 1, 100, 50, critDmg=125)\")"
   ]
  },
  {
   "cell_type": "code",
   "execution_count": null,
   "id": "81774fbe",
   "metadata": {},
   "outputs": [],
   "source": [
    "Player(Porah, 1, 100, 50, critDmg=125)\n"
   ]
  },
  {
   "cell_type": "code",
   "execution_count": null,
   "id": "c35626a1",
   "metadata": {},
   "outputs": [],
   "source": [
    "Farhad"
   ]
  },
  {
   "cell_type": "code",
   "execution_count": null,
   "id": "bd2c8e2c",
   "metadata": {},
   "outputs": [],
   "source": [
    "type(Iris)"
   ]
  },
  {
   "cell_type": "code",
   "execution_count": null,
   "id": "edb19ebc",
   "metadata": {},
   "outputs": [],
   "source": [
    "playerName = input(\"Name\")"
   ]
  },
  {
   "cell_type": "code",
   "execution_count": null,
   "id": "e8176882",
   "metadata": {},
   "outputs": [],
   "source": [
    "type(playerName)"
   ]
  },
  {
   "cell_type": "code",
   "execution_count": null,
   "id": "25aea49b",
   "metadata": {},
   "outputs": [],
   "source": [
    "playerName"
   ]
  },
  {
   "cell_type": "code",
   "execution_count": null,
   "id": "2b05b758",
   "metadata": {},
   "outputs": [],
   "source": [
    "playerClass"
   ]
  },
  {
   "cell_type": "code",
   "execution_count": null,
   "id": "3b716160",
   "metadata": {},
   "outputs": [],
   "source": [
    "exec(f\"{playerName} = {playerClass}({playerName}, 1, 100, 50, critDmg=100)\")"
   ]
  },
  {
   "cell_type": "code",
   "execution_count": null,
   "id": "08637e20",
   "metadata": {},
   "outputs": [],
   "source": [
    "exec(\"Iris = 24+4\")"
   ]
  },
  {
   "cell_type": "code",
   "execution_count": null,
   "id": "e539427c",
   "metadata": {},
   "outputs": [],
   "source": [
    "Iris"
   ]
  },
  {
   "cell_type": "code",
   "execution_count": null,
   "id": "7194d05a",
   "metadata": {},
   "outputs": [],
   "source": [
    "classChoices = [\"Player\", \"Mage\"]\n",
    "playerClass = input('Are you going to be a Player or a Mage?: ')\n",
    "while playerClass not in classChoices:\n",
    "    print(\"Please reselect your class!\")\n",
    "    playerClass = input('Are you going to be a Player or a Mage?: ')\n",
    "playerName = input(\"What is your character's name?: \")\n",
    "print(f\"{playerName} is a {playerClass}\")\n",
    "if playerClass == \"Player\":\n",
    "    exec(f\"myCharacter = {playerClass}('{playerName}', 1, 100, 50, critDmg=125)\")\n",
    "elif playerClass == \"Mage\":\n",
    "    exec(f\"myCharacter = {playerClass}('{playerName}', 1, 100, 15, 50, critDmg=125)\")"
   ]
  },
  {
   "cell_type": "markdown",
   "id": "74f33556",
   "metadata": {},
   "source": [
    "### Work on Game Start Ends"
   ]
  },
  {
   "cell_type": "markdown",
   "id": "5580e1ba",
   "metadata": {},
   "source": [
    "### Levels Progress"
   ]
  },
  {
   "cell_type": "code",
   "execution_count": null,
   "id": "290fd58f",
   "metadata": {},
   "outputs": [],
   "source": [
    "expToLevel = [100, 300, 600, 1000, 1500, 2100, 2800, 3600, 4500, 5500, 6600, 7800, 9100, 10500]"
   ]
  },
  {
   "cell_type": "code",
   "execution_count": null,
   "id": "60d4417d",
   "metadata": {},
   "outputs": [],
   "source": [
    "expToLevel = [(lambda x: x += x*100)(x) for x in range(1, 16)]\n"
   ]
  },
  {
   "cell_type": "code",
   "execution_count": null,
   "id": "b9f4882a",
   "metadata": {},
   "outputs": [],
   "source": [
    "expToLevel"
   ]
  },
  {
   "cell_type": "code",
   "execution_count": null,
   "id": "4e2a9bd9",
   "metadata": {},
   "outputs": [],
   "source": [
    "# def generateLevels(lowLevel,highLevel):\n",
    "#     expTotal = []\n",
    "#     for i in range(lowLevel,highLevel+1):\n",
    "#         expTotal += i*100\n",
    "#         print(enumerate(expTotal))"
   ]
  },
  {
   "cell_type": "code",
   "execution_count": null,
   "id": "64f17555",
   "metadata": {},
   "outputs": [],
   "source": [
    "def generateLevels(lowLevel,highLevel):\n",
    "    exp = -100\n",
    "    expTotal = []\n",
    "    for i in range(lowLevel,highLevel):\n",
    "        exp += i*100\n",
    "        expTotal.append(exp)\n",
    "#         print(f\"level {i}:, {expTotal[-1]}\")\n",
    "    return expTotal"
   ]
  },
  {
   "cell_type": "code",
   "execution_count": null,
   "id": "9df57f1a",
   "metadata": {
    "scrolled": true
   },
   "outputs": [],
   "source": [
    "generateLevels(1,16)"
   ]
  },
  {
   "cell_type": "code",
   "execution_count": null,
   "id": "ad1759ac",
   "metadata": {},
   "outputs": [],
   "source": [
    "Kollin = Player(\"Kollin\", 1, 100, 50, critDmg=1.25)"
   ]
  },
  {
   "cell_type": "code",
   "execution_count": null,
   "id": "8fea4269",
   "metadata": {},
   "outputs": [],
   "source": [
    "Kollin.level"
   ]
  },
  {
   "cell_type": "code",
   "execution_count": null,
   "id": "0a3bc336",
   "metadata": {},
   "outputs": [],
   "source": [
    "Kollin.expToLevel"
   ]
  },
  {
   "cell_type": "code",
   "execution_count": null,
   "id": "be65a9d4",
   "metadata": {},
   "outputs": [],
   "source": [
    "class Player:\n",
    "    \"\"\"\n",
    "    class Player:\n",
    "    A class to represent a player in the game.\n",
    "\n",
    "    ...\n",
    "\n",
    "    Attributes\n",
    "    ----------\n",
    "    name : str\n",
    "        name of the person.\n",
    "    level : int\n",
    "        level of the player.\n",
    "    hp : int\n",
    "        hp of the player\n",
    "    dmg : int\n",
    "        dmg of the player\n",
    "    critDmg : int\n",
    "        Critical damage modifier of the player.\n",
    "    critChance : int\n",
    "        Critical hit chance of the player.\n",
    "\n",
    "    Methods\n",
    "    -------\n",
    "    describe():\n",
    "        Describes the player's name, level, hp, and damage.\n",
    "    takeDamage():\n",
    "        Triggered when the player takes damage from environmental triggers.  \n",
    "    levelUp():\n",
    "        Increases the player's level along with increasing hp and dmg.\n",
    "    obtainItem(item):\n",
    "        Adds an item to the player's inventory. Must be in a dictionary format \n",
    "        and reference OTHER FUNCTION here for more details.\n",
    "    MORE TO TRULY ADD HERE!!!!\n",
    "\n",
    "\n",
    "    \"\"\"\n",
    "\n",
    "    inventory = {}\n",
    "\n",
    "    following = {}\n",
    "    \n",
    "    expToLevel = generateLevels(1,16) # Max level of 15. Valid levels of 1 -> 15 right now.\n",
    "    \n",
    "    levelsAttained = []\n",
    "\n",
    "\n",
    "    def __init__(self, name, level, hp, dmg, critDmg=1.25, critChance=100, exp=0):\n",
    "        self.name = name\n",
    "        self.level = level\n",
    "        self.hp = hp\n",
    "        self.dmg = dmg\n",
    "        self.critDmg = critDmg  # 1 is default\n",
    "        self.critChance = critChance  # 100% default\n",
    "        self.exp = exp\n",
    "\n",
    "    def describe(self):\n",
    "        print(\n",
    "            f\"{self.name} is a level {self.level} character with {self.hp} that does {self.dmg} damage\")\n",
    "\n",
    "    def takeDamage(self):\n",
    "        currentHP = self.hp\n",
    "        print(f\"{self.name} took xxx damage! Down to xxx hp! Current HP is {currentHP}\")\n",
    "\n",
    "    def levelUp(self):\n",
    "        self.level += 1\n",
    "        self.hp += random.randint(0, 11)\n",
    "        self.dmg += random.randint(0, 5)\n",
    "\n",
    "    def obtainItem(self, item):\n",
    "        self.inventory.update(item)\n",
    "        # for ease of addition\n",
    "\n",
    "    def checkInv(self):\n",
    "        return self.inventory\n",
    "\n",
    "    def equipItem(self):\n",
    "        # iterator through items in inventory...\n",
    "        for items in self.inventory:\n",
    "            if self.level >= self.inventory[item]['level']:\n",
    "                pass\n",
    "        pass\n",
    "    \n",
    "    def checkLevel(self):\n",
    "        for i in range(0,15):\n",
    "            if self.exp > self.expToLevel[i]:\n",
    "                self.levelsAttained.append(i)\n",
    "                print(f\"level {i+1}: True\")\n",
    "                self.level = self.levelsAttained[-1]+1"
   ]
  },
  {
   "cell_type": "code",
   "execution_count": null,
   "id": "440b37d4",
   "metadata": {
    "scrolled": true
   },
   "outputs": [],
   "source": [
    "Kollin.expToLevel"
   ]
  },
  {
   "cell_type": "code",
   "execution_count": null,
   "id": "9a9cd530",
   "metadata": {
    "scrolled": true
   },
   "outputs": [],
   "source": [
    "for i in range(0,15):\n",
    "    print(f\" level {i+1}: {Kollin.expToLevel[i]}\")"
   ]
  },
  {
   "cell_type": "code",
   "execution_count": null,
   "id": "9995ad44",
   "metadata": {},
   "outputs": [],
   "source": [
    "Kollin.exp = 100"
   ]
  },
  {
   "cell_type": "code",
   "execution_count": null,
   "id": "580bd955",
   "metadata": {},
   "outputs": [],
   "source": [
    "Kollin.exp"
   ]
  },
  {
   "cell_type": "code",
   "execution_count": null,
   "id": "4c2ca21e",
   "metadata": {},
   "outputs": [],
   "source": [
    "def checkLevel(self):\n",
    "    for i in range(0,15):\n",
    "        if self.exp > self.expToLevel[i]:\n",
    "            self.levelsAttained.append(i)\n",
    "            print(f\"level {i+1}: True\")\n",
    "            self.level = self.levelsAttained[-1]+1"
   ]
  },
  {
   "cell_type": "code",
   "execution_count": null,
   "id": "9cf73be3",
   "metadata": {},
   "outputs": [],
   "source": [
    "checkLevel(Kollin)"
   ]
  },
  {
   "cell_type": "code",
   "execution_count": null,
   "id": "5b06fde4",
   "metadata": {},
   "outputs": [],
   "source": [
    "Kollin.level"
   ]
  },
  {
   "cell_type": "code",
   "execution_count": null,
   "id": "b01b9c80",
   "metadata": {},
   "outputs": [],
   "source": [
    "Kollin.exp"
   ]
  },
  {
   "cell_type": "code",
   "execution_count": null,
   "id": "6722d1ce",
   "metadata": {},
   "outputs": [],
   "source": [
    "Kollin.level"
   ]
  },
  {
   "cell_type": "code",
   "execution_count": null,
   "id": "6f597b54",
   "metadata": {},
   "outputs": [],
   "source": [
    "Kollin"
   ]
  },
  {
   "cell_type": "code",
   "execution_count": null,
   "id": "d08ccf45",
   "metadata": {
    "scrolled": true
   },
   "outputs": [],
   "source": [
    "checkLevel(Kollin)"
   ]
  },
  {
   "cell_type": "code",
   "execution_count": null,
   "id": "20278b03",
   "metadata": {},
   "outputs": [],
   "source": [
    "Kollin.expToLevel"
   ]
  },
  {
   "cell_type": "code",
   "execution_count": null,
   "id": "01cc9dc3",
   "metadata": {},
   "outputs": [],
   "source": [
    "levelsAttained"
   ]
  },
  {
   "cell_type": "code",
   "execution_count": null,
   "id": "92509bb3",
   "metadata": {
    "scrolled": true
   },
   "outputs": [],
   "source": [
    "exp"
   ]
  },
  {
   "cell_type": "markdown",
   "id": "21446896",
   "metadata": {},
   "source": [
    "# Test Assertion"
   ]
  },
  {
   "cell_type": "code",
   "execution_count": null,
   "id": "77086fa8",
   "metadata": {},
   "outputs": [],
   "source": [
    "name = 'This'"
   ]
  },
  {
   "cell_type": "code",
   "execution_count": null,
   "id": "3bf79731",
   "metadata": {
    "scrolled": true
   },
   "outputs": [],
   "source": [
    "assert name == 'Kollin', \\\n",
    "        f\"Name was not Kollin!\""
   ]
  },
  {
   "cell_type": "code",
   "execution_count": null,
   "id": "556da467",
   "metadata": {},
   "outputs": [],
   "source": []
  },
  {
   "cell_type": "markdown",
   "id": "8f445851",
   "metadata": {},
   "source": [
    "# End Assertion"
   ]
  },
  {
   "cell_type": "code",
   "execution_count": null,
   "id": "64203ac9",
   "metadata": {},
   "outputs": [],
   "source": []
  },
  {
   "cell_type": "code",
   "execution_count": null,
   "id": "f9316d7d",
   "metadata": {},
   "outputs": [],
   "source": []
  },
  {
   "cell_type": "code",
   "execution_count": null,
   "id": "b0bc21c9",
   "metadata": {},
   "outputs": [],
   "source": []
  },
  {
   "cell_type": "code",
   "execution_count": null,
   "id": "1fb07029",
   "metadata": {},
   "outputs": [],
   "source": []
  },
  {
   "cell_type": "code",
   "execution_count": null,
   "id": "a64151b0",
   "metadata": {
    "scrolled": true
   },
   "outputs": [],
   "source": [
    "generateLevels(1,15)"
   ]
  },
  {
   "cell_type": "markdown",
   "id": "b3afbb5f",
   "metadata": {},
   "source": [
    "### Levels Progress End"
   ]
  },
  {
   "cell_type": "code",
   "execution_count": null,
   "id": "3acac617",
   "metadata": {},
   "outputs": [],
   "source": []
  },
  {
   "cell_type": "code",
   "execution_count": null,
   "id": "987c37e1",
   "metadata": {},
   "outputs": [],
   "source": [
    "Kennedy.skills"
   ]
  },
  {
   "cell_type": "code",
   "execution_count": null,
   "id": "cbca0ad6",
   "metadata": {},
   "outputs": [],
   "source": []
  },
  {
   "cell_type": "code",
   "execution_count": null,
   "id": "fc549711",
   "metadata": {},
   "outputs": [],
   "source": [
    "dealMagicDamage(Kennedy, Alex)"
   ]
  },
  {
   "cell_type": "code",
   "execution_count": null,
   "id": "63170949",
   "metadata": {},
   "outputs": [],
   "source": [
    "Kennedy.mp"
   ]
  },
  {
   "cell_type": "code",
   "execution_count": null,
   "id": "446ac7fd",
   "metadata": {},
   "outputs": [],
   "source": [
    "Alex = Enemy(\"Alex\", 1, 70, 7)\n"
   ]
  },
  {
   "cell_type": "code",
   "execution_count": null,
   "id": "778f4c89",
   "metadata": {},
   "outputs": [],
   "source": [
    "player.skills['fireball']['Damage']"
   ]
  },
  {
   "cell_type": "code",
   "execution_count": null,
   "id": "5ca7fe01",
   "metadata": {},
   "outputs": [],
   "source": [
    "Kennedy.skills['fireball']['Damage']"
   ]
  },
  {
   "cell_type": "code",
   "execution_count": null,
   "id": "b70ad64f",
   "metadata": {},
   "outputs": [],
   "source": []
  },
  {
   "cell_type": "code",
   "execution_count": null,
   "id": "4811fea2",
   "metadata": {},
   "outputs": [],
   "source": [
    "a = 10"
   ]
  },
  {
   "cell_type": "code",
   "execution_count": null,
   "id": "f0d613d3",
   "metadata": {},
   "outputs": [],
   "source": [
    "a -= 2"
   ]
  },
  {
   "cell_type": "code",
   "execution_count": null,
   "id": "5ab17337",
   "metadata": {},
   "outputs": [],
   "source": [
    "Kennedy.skills['fireball']['MPCost']"
   ]
  },
  {
   "cell_type": "code",
   "execution_count": null,
   "id": "590f10d6",
   "metadata": {},
   "outputs": [],
   "source": [
    "a"
   ]
  },
  {
   "cell_type": "code",
   "execution_count": null,
   "id": "8eee9157",
   "metadata": {},
   "outputs": [],
   "source": [
    "skills = {'fireball': {'level': 1, 'MPCost': 3, \"Damage\": 12},\n",
    "                  'gust': {'level': 5, 'MPCost': 6, \"Damage\": 22}}\n"
   ]
  },
  {
   "cell_type": "code",
   "execution_count": null,
   "id": "673d558d",
   "metadata": {},
   "outputs": [],
   "source": [
    "# for ability in skills:\n",
    "#     print(f\"{ability} has a level requirement of {skills[ability]['level']} \")\n",
    "#     levelReq = skills[ability]['level']\n",
    "#     if Kennedy.level >= levelReq:\n",
    "#         print(f\"okay to cast {ability}!\")\n",
    "#         if f\"{ability}\" not in ableToCast:\n",
    "#             ableToCast.append(ability)\n",
    "# #     print(f\"{list(skills)[ability]} has a levelReq of {levelReq}\")"
   ]
  },
  {
   "cell_type": "code",
   "execution_count": null,
   "id": "16cffe77",
   "metadata": {},
   "outputs": [],
   "source": [
    "def checkSpellLevels(mage):\n",
    "    skills = mage.skills\n",
    "    for ability in mage.skills:\n",
    "        print(f\"{ability} has a level requirement of {skills[ability]['level']} \")\n",
    "        levelReq = skills[ability]['level']\n",
    "        if Kennedy.level >= levelReq:\n",
    "            print(f\"okay to cast {ability}!\")\n",
    "            if f\"{ability}\" not in ableToCast:\n",
    "                ableToCast.append(ability)"
   ]
  },
  {
   "cell_type": "code",
   "execution_count": null,
   "id": "938b1cbf",
   "metadata": {
    "scrolled": true
   },
   "outputs": [],
   "source": [
    "level = Kennedy.level\n",
    "levelReq = Kennedy.skills[ability]['level']\n",
    "for i in range(0,len(list(Kennedy.skills))):\n",
    "    print(f\"{list(Kennedy.skills)[i]} has a levelReq of {Kennedy.skill[i]['level']}\")\n",
    "#           if mage.level >= levelReq:\n",
    "#           print(\"okay to cast!\")\n"
   ]
  },
  {
   "cell_type": "code",
   "execution_count": null,
   "id": "aebff92d",
   "metadata": {},
   "outputs": [],
   "source": [
    "checkSpellLevels(Kennedy)"
   ]
  },
  {
   "cell_type": "code",
   "execution_count": null,
   "id": "9954d03a",
   "metadata": {},
   "outputs": [],
   "source": [
    "ableToCast"
   ]
  },
  {
   "cell_type": "code",
   "execution_count": null,
   "id": "ad073deb",
   "metadata": {},
   "outputs": [],
   "source": [
    "for i in range(0,3):\n",
    "    print(Kennedy.skills)"
   ]
  },
  {
   "cell_type": "code",
   "execution_count": null,
   "id": "b29eac9e",
   "metadata": {},
   "outputs": [],
   "source": [
    "Kennedy.skills['gust']['level']"
   ]
  },
  {
   "cell_type": "code",
   "execution_count": null,
   "id": "80317a44",
   "metadata": {},
   "outputs": [],
   "source": [
    "print(len(list(Kennedy.skills)))"
   ]
  },
  {
   "cell_type": "code",
   "execution_count": null,
   "id": "079a84a5",
   "metadata": {},
   "outputs": [],
   "source": [
    "list(Kennedy.skills)[2]"
   ]
  },
  {
   "cell_type": "code",
   "execution_count": null,
   "id": "fec55712",
   "metadata": {},
   "outputs": [],
   "source": [
    "for ability in Kennedy.skills:\n",
    "    skills = list(Kennedy.skills[ability])\n",
    "    print(ability)"
   ]
  },
  {
   "cell_type": "code",
   "execution_count": null,
   "id": "1ce8150f",
   "metadata": {},
   "outputs": [],
   "source": []
  },
  {
   "cell_type": "code",
   "execution_count": null,
   "id": "59242567",
   "metadata": {},
   "outputs": [],
   "source": [
    "for ability in Kennedy.skills:\n",
    "#     print(ability)\n",
    "    print(list(Kennedy.skills)[ability])"
   ]
  },
  {
   "cell_type": "code",
   "execution_count": null,
   "id": "9a384f62",
   "metadata": {},
   "outputs": [],
   "source": [
    "Kennedy.levelUp()"
   ]
  },
  {
   "cell_type": "code",
   "execution_count": null,
   "id": "99755fda",
   "metadata": {},
   "outputs": [],
   "source": [
    "Kennedy.describe()"
   ]
  },
  {
   "cell_type": "code",
   "execution_count": null,
   "id": "f7c820d8",
   "metadata": {},
   "outputs": [],
   "source": [
    "checkSpellLevels(Kennedy)"
   ]
  },
  {
   "cell_type": "code",
   "execution_count": null,
   "id": "5968a653",
   "metadata": {},
   "outputs": [],
   "source": [
    "ableToCast"
   ]
  },
  {
   "cell_type": "code",
   "execution_count": null,
   "id": "a9c7d222",
   "metadata": {},
   "outputs": [],
   "source": [
    "chooseSpell(Kennedy)"
   ]
  },
  {
   "cell_type": "code",
   "execution_count": null,
   "id": "b9f1e73b",
   "metadata": {},
   "outputs": [],
   "source": [
    "Kennedy.skills"
   ]
  },
  {
   "cell_type": "markdown",
   "id": "0921aac7",
   "metadata": {},
   "source": [
    "# End of this"
   ]
  },
  {
   "cell_type": "markdown",
   "id": "84e41157",
   "metadata": {},
   "source": [
    "#### YEAH"
   ]
  },
  {
   "cell_type": "code",
   "execution_count": null,
   "id": "24fa5bb6",
   "metadata": {},
   "outputs": [],
   "source": []
  },
  {
   "cell_type": "code",
   "execution_count": null,
   "id": "ce1b16a3",
   "metadata": {},
   "outputs": [],
   "source": [
    "list(G['A23'])[0]"
   ]
  },
  {
   "cell_type": "code",
   "execution_count": null,
   "id": "6aa78902",
   "metadata": {},
   "outputs": [],
   "source": [
    "print(movePath)"
   ]
  },
  {
   "cell_type": "code",
   "execution_count": null,
   "id": "323512ed",
   "metadata": {},
   "outputs": [],
   "source": [
    "movePath[-1]"
   ]
  },
  {
   "cell_type": "code",
   "execution_count": null,
   "id": "354e2b27",
   "metadata": {},
   "outputs": [],
   "source": [
    "G[movePath[-1]]"
   ]
  },
  {
   "cell_type": "code",
   "execution_count": null,
   "id": "50362b58",
   "metadata": {},
   "outputs": [],
   "source": [
    "promptMovement()"
   ]
  },
  {
   "cell_type": "code",
   "execution_count": null,
   "id": "3c4deb02",
   "metadata": {},
   "outputs": [],
   "source": [
    "choice = input(\"Where do you want to move?\")\n",
    "if choice == '0':\n",
    "    print(movePath[-1], movePath[-2])\n",
    "elif choice == '1':\n",
    "    print(movePath[-1], movePath[-2])\n",
    "elif choice == '2':\n",
    "    print(movePath[-1], movePath[-2])"
   ]
  },
  {
   "cell_type": "code",
   "execution_count": null,
   "id": "e6af311a",
   "metadata": {},
   "outputs": [],
   "source": [
    "movePath[-1]"
   ]
  },
  {
   "cell_type": "code",
   "execution_count": null,
   "id": "910b7502",
   "metadata": {},
   "outputs": [],
   "source": [
    "print(movePath[-1], movePath[-2])\n"
   ]
  },
  {
   "cell_type": "code",
   "execution_count": null,
   "id": "3383816f",
   "metadata": {},
   "outputs": [],
   "source": [
    "noOfChoices = G['A4']\n",
    "# print(len(noOfChoices))\n",
    "for i in range(0, len(noOfChoices)):\n",
    "    "
   ]
  },
  {
   "cell_type": "code",
   "execution_count": null,
   "id": "f0c3bcba",
   "metadata": {},
   "outputs": [],
   "source": []
  },
  {
   "cell_type": "code",
   "execution_count": null,
   "id": "882a6db1",
   "metadata": {},
   "outputs": [],
   "source": [
    "list(G['A4'])[0]"
   ]
  },
  {
   "cell_type": "code",
   "execution_count": null,
   "id": "9f470d6a",
   "metadata": {},
   "outputs": [],
   "source": [
    "choice = [int(input()) for neighbors in G['A4']]"
   ]
  },
  {
   "cell_type": "code",
   "execution_count": null,
   "id": "146ac529",
   "metadata": {},
   "outputs": [],
   "source": [
    "len(G['A4'])"
   ]
  },
  {
   "cell_type": "code",
   "execution_count": null,
   "id": "bad3d81c",
   "metadata": {},
   "outputs": [],
   "source": []
  },
  {
   "cell_type": "code",
   "execution_count": null,
   "id": "b2db2ce2",
   "metadata": {},
   "outputs": [],
   "source": [
    "len(list(G.neighbors('A4')))"
   ]
  },
  {
   "cell_type": "code",
   "execution_count": null,
   "id": "35fa5f15",
   "metadata": {},
   "outputs": [],
   "source": [
    "checkLastPos('A1')"
   ]
  },
  {
   "cell_type": "markdown",
   "id": "32599c4a",
   "metadata": {},
   "source": [
    "#### End Movement"
   ]
  },
  {
   "cell_type": "code",
   "execution_count": null,
   "id": "91f24c99",
   "metadata": {},
   "outputs": [],
   "source": [
    "def getSizeOfZonetypes(G):\n",
    "    return zoneTypes[0].keys():"
   ]
  },
  {
   "cell_type": "code",
   "execution_count": null,
   "id": "22f24a51",
   "metadata": {},
   "outputs": [],
   "source": [
    "getSizeOfEncounters(G)"
   ]
  },
  {
   "cell_type": "code",
   "execution_count": null,
   "id": "c4c598a1",
   "metadata": {
    "scrolled": true
   },
   "outputs": [],
   "source": [
    "for j in range(0, G.size()): # iterate over the size of the graph\n",
    "    if f\"A{j}\" in movePath[-1]:\n",
    "        print(j)"
   ]
  },
  {
   "cell_type": "code",
   "execution_count": null,
   "id": "f98545e4",
   "metadata": {},
   "outputs": [],
   "source": [
    "list(zoneTypes[0].keys())[6]"
   ]
  },
  {
   "cell_type": "code",
   "execution_count": null,
   "id": "e8e79533",
   "metadata": {},
   "outputs": [],
   "source": [
    "list(zoneTypes[1].keys())"
   ]
  },
  {
   "cell_type": "code",
   "execution_count": null,
   "id": "fcc2a516",
   "metadata": {},
   "outputs": [],
   "source": [
    "\"A1\" in 'A11'"
   ]
  },
  {
   "cell_type": "code",
   "execution_count": null,
   "id": "4b355199",
   "metadata": {},
   "outputs": [],
   "source": [
    "movePath[-1]"
   ]
  },
  {
   "cell_type": "code",
   "execution_count": null,
   "id": "14c01c88",
   "metadata": {
    "scrolled": true
   },
   "outputs": [],
   "source": [
    "'A1' in zoneTypes[0].keys()"
   ]
  },
  {
   "cell_type": "code",
   "execution_count": null,
   "id": "141d2587",
   "metadata": {},
   "outputs": [],
   "source": [
    "movePath[-1]"
   ]
  },
  {
   "cell_type": "code",
   "execution_count": null,
   "id": "101cda65",
   "metadata": {},
   "outputs": [],
   "source": [
    "list(zoneTypes[0].keys())[7]"
   ]
  },
  {
   "cell_type": "code",
   "execution_count": null,
   "id": "0a10c51b",
   "metadata": {},
   "outputs": [],
   "source": [
    "movePath[-1] in list(zoneTypes[1].keys())"
   ]
  },
  {
   "cell_type": "markdown",
   "id": "7bfa01e5",
   "metadata": {},
   "source": [
    "### End of WIP"
   ]
  },
  {
   "cell_type": "code",
   "execution_count": null,
   "id": "1fbe5a06",
   "metadata": {
    "scrolled": true
   },
   "outputs": [],
   "source": [
    "cycleNodeTypes(G, Kollin, Alex)"
   ]
  },
  {
   "cell_type": "code",
   "execution_count": null,
   "id": "ce36b693",
   "metadata": {},
   "outputs": [],
   "source": [
    "nodeTypes = ['encounterArea', 'cityArea', 'shopArea', 'fishingArea']\n",
    "zoneTypes = ['encounterZones', 'cityZones', 'shopZones', 'fishingZones']\n",
    "for i in range(0,4):\n",
    "    zoneTypes[i] = nx.get_node_attributes(G, nodeTypes[i])\n",
    "#     print(zoneTypes)\n",
    "    for j in range(0, G.size()):\n",
    "        if f\"A{j}\" in zoneTypes[i].keys():\n",
    "            print(f\"A{j} is a {list(zoneTypes[i].values())[0]}!\")\n",
    "            if list(zoneTypes[i].values())[0] == 'encounterArea':\n",
    "                checkForBattle(player, enemy)\n",
    "            elif list(zoneTypes[i].values())[0] == 'cityArea':\n",
    "                print(\"You are in town!\")\n",
    "            elif list(zoneTypes[i].values())[0] == 'shopArea':\n",
    "                print(\"Feel free to shop around!\")\n",
    "                print(\"ADD IN SHOP FEATURE!\")\n",
    "            elif list(zoneTypes[i].values())[0] == 'fishingArea':\n",
    "                print(\"Drop a line and relax, it's fishing time!\")"
   ]
  },
  {
   "cell_type": "code",
   "execution_count": null,
   "id": "301af21b",
   "metadata": {},
   "outputs": [],
   "source": [
    "G.size()"
   ]
  },
  {
   "cell_type": "code",
   "execution_count": null,
   "id": "f7230bd8",
   "metadata": {},
   "outputs": [],
   "source": []
  },
  {
   "cell_type": "code",
   "execution_count": null,
   "id": "51e55b7f",
   "metadata": {},
   "outputs": [],
   "source": [
    "for i in range(0, G.size()):\n",
    "    if f\"A{i}\" in encounterZones.keys():\n",
    "        print(f\"['A{i}']\", \"nodes\")"
   ]
  },
  {
   "cell_type": "code",
   "execution_count": null,
   "id": "28e186e3",
   "metadata": {},
   "outputs": [],
   "source": [
    "zoneTypes[2]"
   ]
  },
  {
   "cell_type": "code",
   "execution_count": null,
   "id": "ea6a9219",
   "metadata": {},
   "outputs": [],
   "source": [
    "import networkx as nx\n",
    "\n",
    "G = nx.Graph()\n",
    "\n",
    "for i in range(0,23):\n",
    "    G.add_node(f\"A{i}\") # I am not sure how I want to number them... also how to embed labels in this format???\n",
    "\n",
    "for i in range(0,8):\n",
    "    G.add_node(f\"A{i}\", encounterArea=\"Encounter Zone!\") # Nodes don't have weights... edges do! I forgot lol.\n",
    "# Add chest locations\n",
    "\n",
    "G.add_node(\"A9\", shopArea=\"shopping Zone!\") # Nodes don't have weights... edges do! I forgot lol.\n",
    "G.add_node(\"A10\", fishingArea=\"Fishing Zone!\") # Nodes don't have weights... edges do! I forgot lol.\n",
    "\n",
    "for i in range(0,23):\n",
    "    G.add_edge(f\"A{i}\", f\"A{i+1}\") # I am not sure how I want to number them... also how to embed labels in this format???\n",
    "\n",
    "\n",
    "G.add_edge('A4', 'B4')\n",
    "\n",
    "print(G.nodes)\n",
    "\n",
    "nx.draw(G)"
   ]
  },
  {
   "cell_type": "code",
   "execution_count": null,
   "id": "053e6b0c",
   "metadata": {},
   "outputs": [],
   "source": [
    "Kollin = Player(\"Kollin\", 1, 100, 50, critDmg=1.25)\n"
   ]
  },
  {
   "cell_type": "code",
   "execution_count": null,
   "id": "f45e6f17",
   "metadata": {},
   "outputs": [],
   "source": [
    "checkForEncounterNode(G)"
   ]
  },
  {
   "cell_type": "code",
   "execution_count": null,
   "id": "f09a283c",
   "metadata": {
    "scrolled": false
   },
   "outputs": [],
   "source": [
    "movement('A0','A1')"
   ]
  },
  {
   "cell_type": "code",
   "execution_count": null,
   "id": "41482ac5",
   "metadata": {},
   "outputs": [],
   "source": [
    "def roll():\n",
    "    global decider\n",
    "    decider = int(random.random()*100)\n",
    "    return decider"
   ]
  },
  {
   "cell_type": "code",
   "execution_count": null,
   "id": "30ea7478",
   "metadata": {},
   "outputs": [],
   "source": [
    "# Think of a way to wrap it up into a scanning function... got the basics of the structure for movement and\n",
    "# combat initiation!\n",
    "# Think of fixing this!!!\n",
    "# Get a function name here... chance for encounters....\n",
    "for nodes in encounterZones:\n",
    "    print(nodes)\n",
    "    roll()\n",
    "    if decider < 70: # 30% chance to start combat on any node there is an encounter zone...\n",
    "        start_combat(player, enemy)\n",
    "    else:\n",
    "        pass"
   ]
  },
  {
   "cell_type": "code",
   "execution_count": null,
   "id": "0fcf0b01",
   "metadata": {},
   "outputs": [],
   "source": [
    "# Get to checking if the node is a special position!\n",
    "movePath[0]"
   ]
  },
  {
   "cell_type": "code",
   "execution_count": null,
   "id": "b4c47efa",
   "metadata": {},
   "outputs": [],
   "source": [
    "movePath[-1]"
   ]
  },
  {
   "cell_type": "code",
   "execution_count": null,
   "id": "9efda105",
   "metadata": {},
   "outputs": [],
   "source": [
    "'A1'"
   ]
  },
  {
   "cell_type": "code",
   "execution_count": null,
   "id": "874fe8d2",
   "metadata": {},
   "outputs": [],
   "source": [
    "if [movePath[-1]]"
   ]
  },
  {
   "cell_type": "code",
   "execution_count": null,
   "id": "b4d851d3",
   "metadata": {},
   "outputs": [],
   "source": [
    "G.nodes()\n",
    "G.node('A4')"
   ]
  },
  {
   "cell_type": "code",
   "execution_count": null,
   "id": "49997ea4",
   "metadata": {},
   "outputs": [],
   "source": [
    "nx.set_node_attributes(G, 'A4', \"shit\")"
   ]
  },
  {
   "cell_type": "code",
   "execution_count": null,
   "id": "2a779f3e",
   "metadata": {},
   "outputs": [],
   "source": [
    "G.nodes['A4']"
   ]
  },
  {
   "cell_type": "code",
   "execution_count": null,
   "id": "7cf43c70",
   "metadata": {},
   "outputs": [],
   "source": [
    "G['A3']"
   ]
  },
  {
   "cell_type": "code",
   "execution_count": null,
   "id": "aa9d3720",
   "metadata": {},
   "outputs": [],
   "source": [
    "G.graph"
   ]
  },
  {
   "cell_type": "code",
   "execution_count": null,
   "id": "1575447b",
   "metadata": {},
   "outputs": [],
   "source": [
    "G.add_node(3, weight=0.4, UTM=(\"13S\", 382871, 3972649))\n"
   ]
  },
  {
   "cell_type": "code",
   "execution_count": null,
   "id": "f53658ef",
   "metadata": {
    "scrolled": true
   },
   "outputs": [],
   "source": [
    "import networkx as nx\n",
    "\n",
    "G = nx.Graph()\n",
    "\n",
    "for i in range(0,23):\n",
    "    G.add_node(f\"A{i}\") # I am not sure how I want to number them... also how to embed labels in this format???\n",
    "\n",
    "for i in range(1,8):\n",
    "    G.add_node(f\"A{i}\", encounterArea=\"Encounter Zone!\") # Nodes don't have weights... edges do! I forgot lol.\n",
    "# Add chest locations\n",
    "\n",
    "for i in range(0,23):\n",
    "    G.add_edge(f\"A{i}\", f\"A{i+1}\") # I am not sure how I want to number them... also how to embed labels in this format???\n",
    "\n",
    "\n",
    "G.add_edge('A4', 'B4')\n",
    "\n",
    "print(G.nodes)\n",
    "\n",
    "nx.draw(G)"
   ]
  },
  {
   "cell_type": "code",
   "execution_count": null,
   "id": "a963f06a",
   "metadata": {},
   "outputs": [],
   "source": []
  },
  {
   "cell_type": "code",
   "execution_count": null,
   "id": "dcf8affb",
   "metadata": {},
   "outputs": [],
   "source": [
    "encounterZones = nx.get_node_attributes(G, \"encounterArea\")"
   ]
  },
  {
   "cell_type": "code",
   "execution_count": null,
   "id": "43bc54c5",
   "metadata": {},
   "outputs": [],
   "source": [
    "weights = nx.get_node_attributes(G, \"weight\")"
   ]
  },
  {
   "cell_type": "code",
   "execution_count": null,
   "id": "061a48bb",
   "metadata": {},
   "outputs": [],
   "source": [
    "zoneAreas = nx.get_node_attributes(G, \"zoneArea\")"
   ]
  },
  {
   "cell_type": "code",
   "execution_count": null,
   "id": "b3995e0c",
   "metadata": {
    "scrolled": true
   },
   "outputs": [],
   "source": [
    "encounterZones"
   ]
  },
  {
   "cell_type": "code",
   "execution_count": null,
   "id": "fa0ae236",
   "metadata": {},
   "outputs": [],
   "source": []
  },
  {
   "cell_type": "code",
   "execution_count": null,
   "id": "41c5d91d",
   "metadata": {},
   "outputs": [],
   "source": [
    "encounterZones.keys()[]"
   ]
  },
  {
   "cell_type": "code",
   "execution_count": null,
   "id": "51566595",
   "metadata": {},
   "outputs": [],
   "source": [
    "for i in range(0, G.size()):\n",
    "    if G[f\"A{i}\"] in encounterZones:\n",
    "        print(i)"
   ]
  },
  {
   "cell_type": "code",
   "execution_count": null,
   "id": "cef2d057",
   "metadata": {
    "scrolled": false
   },
   "outputs": [],
   "source": [
    "for i in range(0, G.size()):\n",
    "    if f\"A{i}\" in encounterZones.keys():\n",
    "        print(f\"['A{i}']\", \"nodes\")"
   ]
  },
  {
   "cell_type": "code",
   "execution_count": null,
   "id": "da39e825",
   "metadata": {},
   "outputs": [],
   "source": [
    "for i in range(0, G.size()):\n",
    "    if f\"A{i}\" in encounterZones.keys():\n",
    "        print(f\"['A{i}']\", \"nodes\")"
   ]
  },
  {
   "cell_type": "code",
   "execution_count": null,
   "id": "55d3ca86",
   "metadata": {},
   "outputs": [],
   "source": [
    "# Think of a way to wrap it up into a scanning function... got the basics of the structure for movement and\n",
    "# combat initiation!\n",
    "for nodes in encounterZones:\n",
    "    print(nodes)\n",
    "    roll()\n",
    "    if decider < 80:\n",
    "        start_combat(player, enemy)\n",
    "    else:\n",
    "        pass"
   ]
  },
  {
   "cell_type": "code",
   "execution_count": null,
   "id": "da702219",
   "metadata": {},
   "outputs": [],
   "source": [
    "encounterZones.keys()"
   ]
  },
  {
   "cell_type": "code",
   "execution_count": null,
   "id": "9471b706",
   "metadata": {},
   "outputs": [],
   "source": [
    "'A1' in encounterZones.keys()"
   ]
  },
  {
   "cell_type": "code",
   "execution_count": null,
   "id": "130bd0bd",
   "metadata": {},
   "outputs": [],
   "source": [
    "'A1'"
   ]
  },
  {
   "cell_type": "code",
   "execution_count": null,
   "id": "267e4dd7",
   "metadata": {},
   "outputs": [],
   "source": [
    "for i in range(encounterZones.keys()):\n",
    "    print(i)"
   ]
  },
  {
   "cell_type": "code",
   "execution_count": null,
   "id": "d671f242",
   "metadata": {},
   "outputs": [],
   "source": [
    "G.size()"
   ]
  },
  {
   "cell_type": "code",
   "execution_count": null,
   "id": "52229b74",
   "metadata": {},
   "outputs": [],
   "source": [
    "weights"
   ]
  },
  {
   "cell_type": "code",
   "execution_count": null,
   "id": "5f89cecc",
   "metadata": {
    "scrolled": true
   },
   "outputs": [],
   "source": [
    "# Think of a way to wrap it up into a scanning function... got the basics of the structure for movement and\n",
    "# combat initiation!\n",
    "for nodes in encounterZones:\n",
    "    print(nodes)\n",
    "    print(G[nodes])\n",
    "    print(\"Initiate combat!\")"
   ]
  },
  {
   "cell_type": "code",
   "execution_count": null,
   "id": "3d22c9db",
   "metadata": {},
   "outputs": [],
   "source": [
    "for nodes in encounterZones:\n",
    "    print(nodes)\n",
    "    print(G[nodes])\n",
    "    print(\"Initiate combat!\")"
   ]
  },
  {
   "cell_type": "code",
   "execution_count": null,
   "id": "76cfc1dd",
   "metadata": {},
   "outputs": [],
   "source": [
    "G['A4']"
   ]
  },
  {
   "cell_type": "code",
   "execution_count": null,
   "id": "a0ef9191",
   "metadata": {},
   "outputs": [],
   "source": [
    "encounterZones"
   ]
  },
  {
   "cell_type": "code",
   "execution_count": null,
   "id": "a855a2a5",
   "metadata": {},
   "outputs": [],
   "source": [
    "G.node('A4')"
   ]
  },
  {
   "cell_type": "code",
   "execution_count": null,
   "id": "f538f503",
   "metadata": {},
   "outputs": [],
   "source": [
    "G['B4']"
   ]
  },
  {
   "cell_type": "code",
   "execution_count": null,
   "id": "0cd2b090",
   "metadata": {},
   "outputs": [],
   "source": [
    "G.nodes"
   ]
  },
  {
   "cell_type": "code",
   "execution_count": null,
   "id": "77313075",
   "metadata": {},
   "outputs": [],
   "source": [
    "import networkx as nx\n",
    "\n",
    "G = nx.Graph()\n",
    "\n",
    "for i in range(0,23):\n",
    "    G.add_edge(f\"A{i}\", f\"A{i+1}\") # I am not sure how I want to number them... also how to embed labels in this format???\n",
    "    \n",
    "# Add chest locations\n",
    "\n",
    "G.add_edge('A4', 'B4')\n",
    "\n",
    "print(G.nodes)\n",
    "\n",
    "nx.draw(G)"
   ]
  },
  {
   "cell_type": "code",
   "execution_count": null,
   "id": "1aa0f1e0",
   "metadata": {},
   "outputs": [],
   "source": [
    "movement('A0', 'A1')"
   ]
  },
  {
   "cell_type": "code",
   "execution_count": null,
   "id": "87e6f569",
   "metadata": {},
   "outputs": [],
   "source": [
    "if checkNeighbors(n1,n2):\n",
    "    print(\"YASSS\")"
   ]
  },
  {
   "cell_type": "code",
   "execution_count": null,
   "id": "bb4eefd5",
   "metadata": {},
   "outputs": [],
   "source": [
    "checkNeighbors('A0', 'A1')"
   ]
  },
  {
   "cell_type": "code",
   "execution_count": null,
   "id": "db84a4fa",
   "metadata": {},
   "outputs": [],
   "source": [
    "if checkNeighbors('A0','A1') is True:\n",
    "    print(\"Good to go!\")"
   ]
  },
  {
   "cell_type": "code",
   "execution_count": null,
   "id": "8d9f2607",
   "metadata": {},
   "outputs": [],
   "source": [
    "if 'A1' in G['A0']:\n",
    "    print(\"Yes?\")"
   ]
  },
  {
   "cell_type": "code",
   "execution_count": null,
   "id": "f76eaf5a",
   "metadata": {},
   "outputs": [],
   "source": []
  },
  {
   "cell_type": "code",
   "execution_count": null,
   "id": "12b3bf2f",
   "metadata": {},
   "outputs": [],
   "source": [
    "checkNeighbors('A1', 'A0')"
   ]
  },
  {
   "cell_type": "code",
   "execution_count": null,
   "id": "e34e89f2",
   "metadata": {},
   "outputs": [],
   "source": [
    "nodes"
   ]
  },
  {
   "cell_type": "code",
   "execution_count": null,
   "id": "cf47f376",
   "metadata": {},
   "outputs": [],
   "source": [
    "node in nodes"
   ]
  },
  {
   "cell_type": "code",
   "execution_count": null,
   "id": "ff8bf9de",
   "metadata": {},
   "outputs": [],
   "source": [
    "node"
   ]
  },
  {
   "cell_type": "code",
   "execution_count": null,
   "id": "1d202fbc",
   "metadata": {},
   "outputs": [],
   "source": [
    "nodes"
   ]
  },
  {
   "cell_type": "code",
   "execution_count": null,
   "id": "7a5db7bf",
   "metadata": {},
   "outputs": [],
   "source": [
    "nodes = []\n",
    "for node in G.nodes:\n",
    "    nodes.append(node)"
   ]
  },
  {
   "cell_type": "code",
   "execution_count": null,
   "id": "540a0a8d",
   "metadata": {},
   "outputs": [],
   "source": [
    "nodes"
   ]
  },
  {
   "cell_type": "code",
   "execution_count": null,
   "id": "27c2233b",
   "metadata": {},
   "outputs": [],
   "source": [
    "'A0' in nodes"
   ]
  },
  {
   "cell_type": "code",
   "execution_count": null,
   "id": "d2c7c97c",
   "metadata": {},
   "outputs": [],
   "source": [
    "type(nodes)"
   ]
  },
  {
   "cell_type": "code",
   "execution_count": null,
   "id": "a241d695",
   "metadata": {},
   "outputs": [],
   "source": [
    "type(['A0'])"
   ]
  },
  {
   "cell_type": "code",
   "execution_count": null,
   "id": "a0f5d15a",
   "metadata": {},
   "outputs": [],
   "source": [
    "'A10' in nodes"
   ]
  },
  {
   "cell_type": "code",
   "execution_count": null,
   "id": "e3350cac",
   "metadata": {},
   "outputs": [],
   "source": [
    "'A1' in nodes"
   ]
  },
  {
   "cell_type": "code",
   "execution_count": 22,
   "id": "7148e123",
   "metadata": {},
   "outputs": [
    {
     "name": "stdout",
     "output_type": "stream",
     "text": [
      "Kollin is a level 1 character with 100 that does 50 damage\n",
      "Kollin took xxx damage! Down to xxx hp! Current HP is 100\n",
      "Alex is a level 1 character with 70 that does 7 damage\n",
      "Woot, we in the game!\n",
      "Now we dead...\n"
     ]
    }
   ],
   "source": [
    "# import dependencies\n",
    "import random\n",
    "from customErrors import ItemError  # custom errors python file I made\n",
    "\n",
    "# Lets start this project!\n",
    "\n",
    "# Condition for the game\n",
    "isCharacterAlive = True\n",
    "\n",
    "# Some starting parameters for the adventurer\n",
    "# playerHP = 100\n",
    "# playerDmg = 10\n",
    "# playerGold = 0\n",
    "# playerLevel = 1\n",
    "# playerFollowing = [{'name': 'Adventure', 'level': playerLevel}]\n",
    "# playerInventory = {}\n",
    "initPos = 'A0'\n",
    "\n",
    "\n",
    "# Should wrap the above into a class and export to an external file?\n",
    "\n",
    "\n",
    "class Player:\n",
    "    \"\"\"\n",
    "    class Player:\n",
    "    A class to represent a player in the game.\n",
    "\n",
    "    ...\n",
    "\n",
    "    Attributes\n",
    "    ----------\n",
    "    name : str\n",
    "        name of the person.\n",
    "    level : int\n",
    "        level of the player.\n",
    "    hp : int\n",
    "        hp of the player\n",
    "    dmg : int\n",
    "        dmg of the player\n",
    "    critDmg : int\n",
    "        Critical damage modifier of the player.\n",
    "    critChance : int\n",
    "        Critical hit chance of the player.\n",
    "\n",
    "    Methods\n",
    "    -------\n",
    "    describe():\n",
    "        Describes the player's name, level, hp, and damage.\n",
    "    takeDamage():\n",
    "        Triggered when the player takes damage from environmental triggers.  \n",
    "    levelUp():\n",
    "        Increases the player's level along with increasing hp and dmg.\n",
    "    obtainItem(item):\n",
    "        Adds an item to the player's inventory. Must be in a dictionary format \n",
    "        and reference OTHER FUNCTION here for more details.\n",
    "    MORE TO TRULY ADD HERE!!!!\n",
    "\n",
    "\n",
    "    \"\"\"\n",
    "\n",
    "    inventory = {}\n",
    "\n",
    "    following = {}\n",
    "\n",
    "    def __init__(self, name, level, hp, dmg, critDmg=1.25, critChance=100):\n",
    "        self.name = name\n",
    "        self.level = level\n",
    "        self.hp = hp\n",
    "        self.dmg = dmg\n",
    "        self.critDmg = critDmg  # 1 is default\n",
    "        self.critChance = critChance  # 100% default\n",
    "\n",
    "    def describe(self):\n",
    "        print(\n",
    "            f\"{self.name} is a level {self.level} character with {self.hp} that does {self.dmg} damage\")\n",
    "\n",
    "    def takeDamage(self):\n",
    "        currentHP = self.hp\n",
    "        print(f\"{self.name} took xxx damage! Down to xxx hp! Current HP is {currentHP}\")\n",
    "\n",
    "    def levelUp(self):\n",
    "        self.level += 1\n",
    "        self.hp += random.randint(0, 11)\n",
    "        self.dmg += random.randint(0, 5)\n",
    "\n",
    "    def obtainItem(self, item):\n",
    "        self.inventory.update(item)\n",
    "        # for ease of addition\n",
    "\n",
    "    def checkInv(self):\n",
    "        return self.inventory\n",
    "\n",
    "    def equipItem(self):\n",
    "        # iterator through items in inventory...\n",
    "        for items in self.inventory:\n",
    "            if self.level >= self.inventory[item]['level']:\n",
    "                pass\n",
    "        pass\n",
    "\n",
    "\n",
    "class Enemy(Player):\n",
    "    def supriseAttack(self, name, dmg):\n",
    "        print(f\"{self.name} got to you first!\")\n",
    "\n",
    "# Kinda think about player classes?\n",
    "\n",
    "\n",
    "class Mage(Player):\n",
    "    def __init__(self, name, level, hp, mp, dmg, critDmg=1.25, critChance=100):\n",
    "        # not sure if this super init is needed...\n",
    "        super().__init__(name, level, hp, dmg, critDmg=1.25, critChance=100)\n",
    "        self.mp = mp\n",
    "\n",
    "    def magicAttack(self, player, enemy):\n",
    "        print(f\"{self.name} did \")\n",
    "\n",
    "    def checkMP(self):\n",
    "        return self.mp\n",
    "\n",
    "    def describe(self):\n",
    "        print(f\"{self.name} is a level {self.level} character with {self.hp} hp and {self.mp} mp that does {self.dmg} damage\")\n",
    "\n",
    "\n",
    "#        skills = {'fireball': {\"level\": 1, \"MPCost\": 3, \"Damage\": 12}, \"gust\": {\"name\": \"gust\", \"level\": 5, \"MPCost\": 6, \"Damage\": 2 }}\n",
    "\n",
    "        skills = {'fireball': {'level': 1, 'MPCost': 3, \"Damage\": 12},\n",
    "                  'gust': {'level': 5, 'MPCost': 6, \"Damage\": 22}}\n",
    "\n",
    "    # include mana in their stats!\n",
    "    # Include spells at certain levels?\n",
    "        # like fireball at level 1, gust at level 5, blizzard at level 10?\n",
    "        # Blizzard something to make enemy have a chance to get frozen and lose a turn?\n",
    "\n",
    "\n",
    "# Some actions that can be carried out\n",
    "def roll():\n",
    "    global decider\n",
    "    decider = int(random.random()*100)\n",
    "    return decider\n",
    "\n",
    "\n",
    "def determineBattleOrder(player, enemy):\n",
    "    roll()\n",
    "    global turn_order\n",
    "    turn_order = []\n",
    "    if decider > 50:\n",
    "        # print(decider)\n",
    "        print(\"You go first!\")\n",
    "        turn_order = [player, enemy]\n",
    "        print(f\"[{turn_order[0].name}, {turn_order[1].name}]\")\n",
    "        return turn_order\n",
    "    else:\n",
    "        # print(decider)\n",
    "        print(\"Enemy goes first!\")\n",
    "        turn_order = [enemy, player]\n",
    "        print(f\"[{turn_order[0].name}, {turn_order[1].name}]\")\n",
    "        return turn_order\n",
    "\n",
    "\n",
    "def initCombat(player, enemy):\n",
    "    # If we go first\n",
    "    if turn_order[0] == player:\n",
    "        print(\"Hell yes!\")\n",
    "        print(\"This from initCombat()\")\n",
    "\n",
    "    # If enemy goes first\n",
    "    elif turn_order[0] == enemy:\n",
    "        print(\"You too slow!\")\n",
    "        print(\"This from initCombat()\")\n",
    "\n",
    "\n",
    "def start_battle(player, enemy):\n",
    "    \"\"\"\n",
    "    Takes two entities (typically an instance of Player and Enemy) and initiates and carries out the combat phase\n",
    "    \"\"\"\n",
    "    # determine turn order\n",
    "    determineBattleOrder(player, enemy)\n",
    "\n",
    "    # check turn order and then initiate combat\n",
    "    initCombat(player, enemy)\n",
    "\n",
    "    # Decide Combat Logic!\n",
    "    bothAlive = True\n",
    "    # battle shit...\n",
    "    while bothAlive == True:\n",
    "        battling(player, enemy)\n",
    "\n",
    "        if player.hp <= 0:\n",
    "            print(f\"{player.name} has died!\")\n",
    "            bothAlive = False\n",
    "            # elif action == \"magic\":\n",
    "            #    Magic(player, enemy)\n",
    "            # elif action == \"escape\"\n",
    "            #     escape(player)\n",
    "        elif enemy.hp <= 0:\n",
    "            print(f\"{player.name} has killed {enemy.name}\")\n",
    "            print(f\"Remaining HP {player.hp}\")\n",
    "            bothAlive = False\n",
    "\n",
    "    # Transition back to moving interaction! How to do so? Need to create a function!\n",
    "    print(\"We get to transition back to moving!\")\n",
    "\n",
    "    # go back to traversing the map!!!\n",
    "\n",
    "    # bothAlive = False\n",
    "\n",
    "    # start combat\n",
    "    # print(decider)\n",
    "    # roll()\n",
    "\n",
    "\n",
    "def battling(player, enemy):\n",
    "    \"\"\"\n",
    "    Takes two instances (typically an instance of Player and Enemy) and carries out the logic of the combat phase\n",
    "    \"\"\"\n",
    "    # First calculate difference in damage from enemy levels\n",
    "    # print(f\"The turn order is [{turn_order[0].name}, {turn_order[1].name}]\")\n",
    "    # print(f\"[{turn_order[0].name}, {turn_order[1].name}]\")\n",
    "    if turn_order[0] == player:\n",
    "        action = input(\"What action would you like to do? 'attack' \")\n",
    "        if action == \"attack\":\n",
    "            dealDamage(player, enemy)\n",
    "            print(enemy.hp)\n",
    "            turn_order.reverse()\n",
    "            print(\n",
    "                f\"The turn order is [{turn_order[0].name}, {turn_order[1].name}]\")\n",
    "\n",
    "    elif turn_order[0] == enemy:\n",
    "        enemyDmg(enemy, player)\n",
    "        turn_order.reverse()\n",
    "        print(\n",
    "            f\"The turn order is [{turn_order[0].name}, {turn_order[1].name}]\")\n",
    "\n",
    "\n",
    "def dealDamage(player, enemy):\n",
    "    \"\"\"\n",
    "    Functions takes an instance of a Player and Enemy and deals with the logic behind crits or weak hits.\n",
    "    \"\"\"\n",
    "    # Determine hp and figure out damage dealt!\n",
    "\n",
    "    # roll() # I don't think this is needed...\n",
    "\n",
    "    # Roll for Crit Hit Chance\n",
    "    if roll() > 80:\n",
    "        print(\"Critical Hit!\")\n",
    "        enemy.hp = enemy.hp - player.dmg*player.critDmg\n",
    "        # not sure if this works...\n",
    "        print(\n",
    "            f\"{player.name} hit {enemy.name} for {player.dmg}. Health remaining: {enemy.hp}\")\n",
    "    elif roll() < 80 and roll() > 20:\n",
    "        enemy.hp = enemy.hp - player.dmg\n",
    "        print(\n",
    "            f\"{player.name} hit {enemy.name} for {player.dmg}. Health remaining: {enemy.hp}\")\n",
    "    else:\n",
    "        print(\"Swing a lil harder!\")\n",
    "        enemy.hp = enemy.hp - player.dmg * 0.75\n",
    "        print(\n",
    "            f\"{player.name} hit {enemy.name} for {player.dmg}. Health remaining: {enemy.hp}\")\n",
    "\n",
    "\n",
    "def chooseSpell(player):\n",
    "    skills = {'fireball': {'level': 1, 'MPCost': 3, \"Damage\": 12},\n",
    "              'gust': {'level': 5, 'MPCost': 6, \"Damage\": 22}}\n",
    "    # Check level for spell availability\n",
    "    level = player.level\n",
    "    for ability in skills:\n",
    "        levelReq = skills[ability]['level']\n",
    "        print(levelReq)\n",
    "        if player.level >= levelReq:\n",
    "            print(\"okay to cast!\")\n",
    "\n",
    "\n",
    "def dealMagicDamage(player, enemy):\n",
    "    \"\"\"\n",
    "    Takes an instance of Player and Enemy and deals with the combat logic for the Mage class.\n",
    "    \"\"\"\n",
    "    # Determine hp and figure out damage dealt!\n",
    "    mp = player.mp\n",
    "    # WIP\n",
    "\n",
    "    # Roll for Crit Hit Chance\n",
    "    if roll() > 80:\n",
    "        print(\"Critical Hit!\")\n",
    "        enemy.hp = enemy.hp - player.dmg*player.critDmg\n",
    "        # not sure if this works...\n",
    "        print(\n",
    "            f\"{player.name} hit {enemy.name} for {player.dmg}. Health remaining: {enemy.hp}\")\n",
    "    elif roll() < 80 and roll() > 20:\n",
    "        enemy.hp = enemy.hp - player.dmg\n",
    "        print(\n",
    "            f\"{player.name} hit {enemy.name} for {player.dmg}. Health remaining: {enemy.hp}\")\n",
    "    else:\n",
    "        print(\"Swing a lil harder!\")\n",
    "        enemy.hp = enemy.hp - player.dmg * 0.75\n",
    "        print(\n",
    "            f\"{player.name} hit {enemy.name} for {player.dmg}. Health remaining: {enemy.hp}\")\n",
    "\n",
    "\n",
    "def enemyDmg(enemy, player):\n",
    "    player.hp = player.hp - enemy.dmg\n",
    "    print(f\"{enemy.name} hit {player.name} for {enemy.dmg}. Health remaining: {player.hp}\")\n",
    "    # roll into deal dealDamage and let the enemy also do critical damage!!!\n",
    "    # maybe change enemy into opponent here? But enemy is the class name so it is easier to think about also... So, shrug?\n",
    "\n",
    "\n",
    "def saveProgress():\n",
    "    # writing to a file that can then have a loadProgress to load into current env...\n",
    "    pass\n",
    "\n",
    "\n",
    "def loadProgress():\n",
    "    pass\n",
    "\n",
    "\n",
    "def fishing():\n",
    "    # Fishing skill? Time start then input in time less then? 20% chance not to catch? Idk\n",
    "    # bigger if caught earlier??\n",
    "    pass\n",
    "\n",
    "\n",
    "def escape():\n",
    "    # combat escape\n",
    "    # think about breaking from the current loop of the battle and back to moving...\n",
    "    # add a percent chance?\n",
    "    pass\n",
    "\n",
    "\n",
    "def addToInv(player, name, level, dmg, slot):\n",
    "    if name in player.inventory:\n",
    "        raise ItemError(\"There is already an item with that name!\")\n",
    "    if slot == 'w':\n",
    "        player.obtainItem(\n",
    "            {name: {'level': level, 'dmg': dmg, 'slot': 'weapon'}})\n",
    "    elif slot == 'a':\n",
    "        player.obtainItem(\n",
    "            {name: {'level': level, 'dmg': dmg, 'slot': 'armor'}})\n",
    "    elif slot == 's':\n",
    "        player.obtainItem(\n",
    "            {name: {'level': level, 'dmg': dmg, 'slot': 'shield'}})\n",
    "\n",
    "def movement(dir):\n",
    "    pass\n",
    "    \n",
    "\n",
    "# THINK EVENTUALLY HOW TO SEPARATE THIS ALL!\n",
    "\n",
    "\n",
    "# Lets instantiate a test character\n",
    "Kollin = Player(\"Kollin\", 1, 100, 50, critDmg=1.25)\n",
    "Kollin.describe()\n",
    "Kollin.takeDamage()\n",
    "Alex = Enemy(\"Alex\", 1, 70, 7)\n",
    "Kennedy = Mage(\"Kennedy\", 1, 80, 15, 50, critDmg=1.25)\n",
    "# dealDamage(Kollin, Alex)\n",
    "Alex.describe()\n",
    "while isCharacterAlive == True:\n",
    "    print(\"Woot, we in the game!\")\n",
    "    isCharacterAlive = False\n",
    "\n",
    "\n",
    "print(\"Now we dead...\")\n",
    "# print(playerFollowing[0]['level'])\n"
   ]
  },
  {
   "cell_type": "code",
   "execution_count": 23,
   "id": "ffda2d75",
   "metadata": {},
   "outputs": [
    {
     "name": "stdout",
     "output_type": "stream",
     "text": [
      "You go first!\n",
      "[Kennedy, Alex]\n",
      "Hell yes!\n",
      "This from initCombat()\n",
      "What action would you like to do? 'attack' attack\n",
      "Kennedy hit Alex for 50. Health remaining: 20\n",
      "20\n",
      "The turn order is [Alex, Kennedy]\n",
      "Alex hit Kennedy for 7. Health remaining: 73\n",
      "The turn order is [Kennedy, Alex]\n",
      "What action would you like to do? 'attack' attack\n",
      "Swing a lil harder!\n",
      "Kennedy hit Alex for 50. Health remaining: -17.5\n",
      "-17.5\n",
      "The turn order is [Alex, Kennedy]\n",
      "Kennedy has killed Alex\n",
      "Remaining HP 73\n",
      "We get to transition back to moving!\n"
     ]
    }
   ],
   "source": [
    "start_battle(Kennedy, Alex)"
   ]
  },
  {
   "cell_type": "code",
   "execution_count": null,
   "id": "39d1ee55",
   "metadata": {},
   "outputs": [],
   "source": []
  }
 ],
 "metadata": {
  "kernelspec": {
   "display_name": "Python 3",
   "language": "python",
   "name": "python3"
  },
  "language_info": {
   "codemirror_mode": {
    "name": "ipython",
    "version": 3
   },
   "file_extension": ".py",
   "mimetype": "text/x-python",
   "name": "python",
   "nbconvert_exporter": "python",
   "pygments_lexer": "ipython3",
   "version": "3.9.13"
  }
 },
 "nbformat": 4,
 "nbformat_minor": 5
}
